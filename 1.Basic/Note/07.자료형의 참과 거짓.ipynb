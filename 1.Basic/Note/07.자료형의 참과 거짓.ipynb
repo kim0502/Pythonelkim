{
 "cells": [
  {
   "cell_type": "markdown",
   "metadata": {},
   "source": [
    "# 자료형의 참과 거짓\n",
    "- 문자열인 경우 \"\" 안에 data가 없으면 거짓,data가 있으면 참.\n",
    "- 리스트인 경우 [] 안에 data가 없으면 거짓,data가 있으면 참.\n",
    "- 튜플인 경우 () 안에 data가 없으면 거짓,data가 있으면 참.\n",
    "- 딕셔너리인 경우 {} 안에 data가 없으면 거짓,data가 있으면 참.\n",
    "- 숫자인 겨우 0 이면 거짓, 0이 아닌 숫자는 참."
   ]
  },
  {
   "cell_type": "code",
   "execution_count": 1,
   "metadata": {},
   "outputs": [
    {
     "name": "stdout",
     "output_type": "stream",
     "text": [
      "4\n",
      "3\n",
      "2\n",
      "1\n"
     ]
    }
   ],
   "source": [
    "# 리스트형에서 자료 출력하면서 자료 지우기\n",
    "var = [1,2,3,4]\n",
    "while var:      \n",
    "    print(var.pop()) #거짓일 경우"
   ]
  },
  {
   "cell_type": "code",
   "execution_count": 2,
   "metadata": {},
   "outputs": [
    {
     "name": "stdout",
     "output_type": "stream",
     "text": [
      "False\n",
      "False\n"
     ]
    }
   ],
   "source": [
    "# 숫자의 참과 거짓\n",
    "\n",
    "var01 = 3\n",
    "var02 = 1\n",
    "\n",
    "print(var01 == var02)\n",
    "print(var01 is var02)"
   ]
  },
  {
   "cell_type": "code",
   "execution_count": 3,
   "metadata": {},
   "outputs": [],
   "source": [
    "# 튜플을 이용한 변수 생성\n",
    "\n",
    "var01, var02 = 1, 2\n",
    "(var01, var02) = (1, \"Lee\")\n",
    "var01 = var02 = \"Lee\""
   ]
  },
  {
   "cell_type": "code",
   "execution_count": 4,
   "metadata": {},
   "outputs": [
    {
     "name": "stdout",
     "output_type": "stream",
     "text": [
      "Lee\n",
      "Lee\n",
      "Kim\n",
      "Lee\n"
     ]
    }
   ],
   "source": [
    "print(var01)\n",
    "print(var02)\n",
    "var01 = \"Kim\"\n",
    "print(var01)\n",
    "print(var02)"
   ]
  },
  {
   "cell_type": "code",
   "execution_count": 5,
   "metadata": {},
   "outputs": [],
   "source": [
    "# 변수 값 교환\n",
    "\n",
    "var01, var02 = 3,5\n",
    "var01, var02 = var02, var01"
   ]
  },
  {
   "cell_type": "code",
   "execution_count": 6,
   "metadata": {},
   "outputs": [
    {
     "name": "stdout",
     "output_type": "stream",
     "text": [
      "[1, 4, 6]\n",
      "[1, 4, 6]\n"
     ]
    }
   ],
   "source": [
    "# 리스트 복사\n",
    "var01 = [1,2,3]\n",
    "var02 = var01\n",
    "var01[1] = 4\n",
    "var02[2] = 6\n",
    "print(var01)\n",
    "print(var02)\n",
    "\n",
    "# call by reference라고 한다. 복사는 이렇게 하면 안된다."
   ]
  },
  {
   "cell_type": "code",
   "execution_count": 7,
   "metadata": {},
   "outputs": [
    {
     "data": {
      "text/plain": [
       "True"
      ]
     },
     "execution_count": 7,
     "metadata": {},
     "output_type": "execute_result"
    }
   ],
   "source": [
    "var01 is var02"
   ]
  },
  {
   "cell_type": "code",
   "execution_count": 8,
   "metadata": {},
   "outputs": [
    {
     "name": "stdout",
     "output_type": "stream",
     "text": [
      "[1, 4, 3]\n",
      "[1, 2, 3]\n"
     ]
    }
   ],
   "source": [
    "# Slicing을 이용한 리스트의 복사\n",
    "var01 = [1,2,3]\n",
    "var02 = var01[:] # 번짓수만 가지고 온다.\n",
    "var01[1] = 4\n",
    "print(var01)\n",
    "print(var02)"
   ]
  },
  {
   "cell_type": "code",
   "execution_count": 9,
   "metadata": {},
   "outputs": [
    {
     "name": "stdout",
     "output_type": "stream",
     "text": [
      "[1, 4, 3]\n",
      "[1, 2, 3]\n"
     ]
    }
   ],
   "source": [
    "# Module을 이용한 리스트의 복사\n",
    "from copy import copy\n",
    "\n",
    "var01 = [1,2,3]\n",
    "var02 = copy(var01)\n",
    "var01[1] = 4\n",
    "print(var01)\n",
    "print(var02)"
   ]
  },
  {
   "cell_type": "code",
   "execution_count": 10,
   "metadata": {},
   "outputs": [
    {
     "name": "stdout",
     "output_type": "stream",
     "text": [
      "True\n",
      "False\n"
     ]
    }
   ],
   "source": [
    "# 리스트의 데이터 유무를 판단하여 True와 False값 Return 하기\n",
    "\n",
    "var = [1,2,3,4]\n",
    "\n",
    "print(4 in var)\n",
    "print(5 in var)"
   ]
  },
  {
   "cell_type": "code",
   "execution_count": null,
   "metadata": {},
   "outputs": [],
   "source": []
  }
 ],
 "metadata": {
  "kernelspec": {
   "display_name": "Python 3.9.7 ('base')",
   "language": "python",
   "name": "python3"
  },
  "language_info": {
   "codemirror_mode": {
    "name": "ipython",
    "version": 3
   },
   "file_extension": ".py",
   "mimetype": "text/x-python",
   "name": "python",
   "nbconvert_exporter": "python",
   "pygments_lexer": "ipython3",
   "version": "3.9.7"
  },
  "orig_nbformat": 4,
  "vscode": {
   "interpreter": {
    "hash": "c34e8390e776d2ee205b71ed5a6130fee3cef8da5e87e926ce18e14f4a070d72"
   }
  }
 },
 "nbformat": 4,
 "nbformat_minor": 2
}
