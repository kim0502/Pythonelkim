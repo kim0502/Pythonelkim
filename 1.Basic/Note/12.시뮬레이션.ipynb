{
 "cells": [
  {
   "cell_type": "markdown",
   "metadata": {},
   "source": [
    "# 몬테카를로 시뮬레이션\n",
    ": 자료가 없을 경우 난수를 통해서 가설 증명"
   ]
  },
  {
   "cell_type": "code",
   "execution_count": 1,
   "metadata": {},
   "outputs": [],
   "source": [
    "# 동전의 앞면과 뒷면이 나올 확률이 같다는 것을 증명"
   ]
  },
  {
   "cell_type": "code",
   "execution_count": 2,
   "metadata": {},
   "outputs": [],
   "source": [
    "import random"
   ]
  },
  {
   "cell_type": "code",
   "execution_count": 3,
   "metadata": {},
   "outputs": [
    {
     "data": {
      "text/plain": [
       "4"
      ]
     },
     "execution_count": 3,
     "metadata": {},
     "output_type": "execute_result"
    }
   ],
   "source": [
    "random.randint(1, 10)"
   ]
  },
  {
   "cell_type": "code",
   "execution_count": 4,
   "metadata": {},
   "outputs": [],
   "source": [
    "def coinF(n):\n",
    "    coinFront = coinRear = 0\n",
    "    for i in range(1, n+1):\n",
    "        x = random.randint(1, 2)\n",
    "        if x == 1:\n",
    "            coinFront += 1\n",
    "        else : \n",
    "            coinRear += 1\n",
    "    print(\"%7d번 시도시 동전의 앞면을 %6d번이고 동전의 뒷면은 %6d번 입니다.\"%(n, coinFront, coinRear))"
   ]
  },
  {
   "cell_type": "code",
   "execution_count": 5,
   "metadata": {},
   "outputs": [
    {
     "name": "stdout",
     "output_type": "stream",
     "text": [
      "     10번 시도시 동전의 앞면을      6번이고 동전의 뒷면은      4번 입니다.\n",
      "    100번 시도시 동전의 앞면을     55번이고 동전의 뒷면은     45번 입니다.\n",
      "   1000번 시도시 동전의 앞면을    481번이고 동전의 뒷면은    519번 입니다.\n",
      "  10000번 시도시 동전의 앞면을   5085번이고 동전의 뒷면은   4915번 입니다.\n",
      " 100000번 시도시 동전의 앞면을  49879번이고 동전의 뒷면은  50121번 입니다.\n"
     ]
    }
   ],
   "source": [
    "coinF(10)\n",
    "coinF(100)\n",
    "coinF(1000)\n",
    "coinF(10000)\n",
    "coinF(100000)\n",
    "coinF(1000000)"
   ]
  },
  {
   "cell_type": "code",
   "execution_count": null,
   "metadata": {},
   "outputs": [],
   "source": [
    "def rockF(n):\n",
    "    rockR = rockS = rockP = 0\n",
    "    for i in range(1, n+1):\n",
    "        x = random.randint(1, 3)\n",
    "        if x ==1:\n",
    "            rockR += 1\n",
    "        elif x ==2:\n",
    "            rockS += 1\n",
    "        else:\n",
    "            rockP +=1\n",
    "    print(\"%7d번 시도시 가위는 %6d번이고 바위는 %6d번이고 보는 %6d입니다.\"%(n, rockR, rockS, rockP))       "
   ]
  },
  {
   "cell_type": "code",
   "execution_count": null,
   "metadata": {},
   "outputs": [
    {
     "name": "stdout",
     "output_type": "stream",
     "text": [
      "     10번 시도시 가위는      2번이고 바위는      6번이고 보는      2입니다.\n",
      "    100번 시도시 가위는     25번이고 바위는     31번이고 보는     44입니다.\n",
      "   1000번 시도시 가위는    328번이고 바위는    348번이고 보는    324입니다.\n",
      "  10000번 시도시 가위는   3359번이고 바위는   3364번이고 보는   3277입니다.\n",
      " 100000번 시도시 가위는  33119번이고 바위는  33491번이고 보는  33390입니다.\n",
      "1000000번 시도시 가위는 333435번이고 바위는 332955번이고 보는 333610입니다.\n"
     ]
    }
   ],
   "source": [
    "rockF(10)\n",
    "rockF(100)\n",
    "rockF(1000)\n",
    "rockF(10000)\n",
    "rockF(100000)\n",
    "rockF(1000000)"
   ]
  },
  {
   "cell_type": "code",
   "execution_count": null,
   "metadata": {},
   "outputs": [],
   "source": []
  }
 ],
 "metadata": {
  "kernelspec": {
   "display_name": "Python 3.9.7 ('base')",
   "language": "python",
   "name": "python3"
  },
  "language_info": {
   "codemirror_mode": {
    "name": "ipython",
    "version": 3
   },
   "file_extension": ".py",
   "mimetype": "text/x-python",
   "name": "python",
   "nbconvert_exporter": "python",
   "pygments_lexer": "ipython3",
   "version": "3.9.7"
  },
  "orig_nbformat": 4,
  "vscode": {
   "interpreter": {
    "hash": "c34e8390e776d2ee205b71ed5a6130fee3cef8da5e87e926ce18e14f4a070d72"
   }
  }
 },
 "nbformat": 4,
 "nbformat_minor": 2
}
