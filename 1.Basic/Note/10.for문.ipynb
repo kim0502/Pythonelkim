{
 "cells": [
  {
   "cell_type": "code",
   "execution_count": 1,
   "metadata": {},
   "outputs": [
    {
     "data": {
      "text/plain": [
       "range(1, 11)"
      ]
     },
     "execution_count": 1,
     "metadata": {},
     "output_type": "execute_result"
    }
   ],
   "source": [
    "range(1, 11)"
   ]
  },
  {
   "cell_type": "code",
   "execution_count": 2,
   "metadata": {},
   "outputs": [
    {
     "data": {
      "text/plain": [
       "[1, 2, 3, 4, 5, 6, 7, 8, 9, 10]"
      ]
     },
     "execution_count": 2,
     "metadata": {},
     "output_type": "execute_result"
    }
   ],
   "source": [
    "list(range(1, 11))"
   ]
  },
  {
   "cell_type": "code",
   "execution_count": 3,
   "metadata": {},
   "outputs": [
    {
     "data": {
      "text/plain": [
       "[0, 2, 4, 6, 8, 10]"
      ]
     },
     "execution_count": 3,
     "metadata": {},
     "output_type": "execute_result"
    }
   ],
   "source": [
    "list(range(0, 11, 2))"
   ]
  },
  {
   "cell_type": "code",
   "execution_count": 4,
   "metadata": {},
   "outputs": [
    {
     "data": {
      "text/plain": [
       "[10, 8, 6, 4, 2]"
      ]
     },
     "execution_count": 4,
     "metadata": {},
     "output_type": "execute_result"
    }
   ],
   "source": [
    "list(range(10, 0, -2))"
   ]
  },
  {
   "cell_type": "code",
   "execution_count": 5,
   "metadata": {},
   "outputs": [
    {
     "data": {
      "text/plain": [
       "[]"
      ]
     },
     "execution_count": 5,
     "metadata": {},
     "output_type": "execute_result"
    }
   ],
   "source": [
    "list(range(0, 10, -2))"
   ]
  },
  {
   "cell_type": "code",
   "execution_count": 6,
   "metadata": {},
   "outputs": [
    {
     "name": "stdout",
     "output_type": "stream",
     "text": [
      "1\n",
      "2\n",
      "3\n",
      "4\n",
      "5\n",
      "6\n",
      "7\n",
      "8\n",
      "9\n",
      "10\n"
     ]
    }
   ],
   "source": [
    "for i in range(1, 11):\n",
    "    print(i)"
   ]
  },
  {
   "cell_type": "code",
   "execution_count": 7,
   "metadata": {},
   "outputs": [
    {
     "name": "stdout",
     "output_type": "stream",
     "text": [
      "1 : 1.00000000\n",
      "2 : 1.41421356\n",
      "3 : 1.73205081\n",
      "4 : 2.00000000\n",
      "5 : 2.23606798\n",
      "6 : 2.44948974\n",
      "7 : 2.64575131\n",
      "8 : 2.82842712\n",
      "9 : 3.00000000\n",
      "10 : 3.16227766\n"
     ]
    }
   ],
   "source": [
    "# 1에서 10까지 제곱근 구하기\n",
    "import math\n",
    "for i in range(1,11):\n",
    "    print(\"%d : %.8f\"%(i,math.sqrt(i)))\n",
    "   "
   ]
  },
  {
   "cell_type": "code",
   "execution_count": 8,
   "metadata": {},
   "outputs": [
    {
     "name": "stdout",
     "output_type": "stream",
     "text": [
      "9 X 2 = 18\n",
      "9 X 3 = 27\n",
      "9 X 4 = 36\n",
      "9 X 5 = 45\n",
      "9 X 6 = 54\n",
      "9 X 7 = 63\n",
      "9 X 8 = 72\n",
      "9 X 9 = 81\n"
     ]
    }
   ],
   "source": [
    "# 구구단 9단 출력\n",
    "i = 9\n",
    "for j in range(2, 10):\n",
    "    print(\"%d X %d = %d\"%(i,j,(i * j)))"
   ]
  },
  {
   "cell_type": "code",
   "execution_count": null,
   "metadata": {},
   "outputs": [],
   "source": [
    "# 구구단 결과만 출력하기\n",
    "for i in range(2, 10):\n",
    "    for j in range(1, 10):\n",
    "        print(\"%2d\"%(i*j), end=' ')\n",
    "    print()"
   ]
  },
  {
   "cell_type": "code",
   "execution_count": null,
   "metadata": {},
   "outputs": [
    {
     "name": "stdout",
     "output_type": "stream",
     "text": [
      "1 : 2\n",
      "3 : 4\n",
      "5 : 6\n"
     ]
    }
   ],
   "source": [
    "# for문에 Tuple 사용하기\n",
    "var = [(1,2),(3,4),(5,6)]\n",
    "\n",
    "for first, last in var:\n",
    "    print(first,\":\", last)\n"
   ]
  },
  {
   "cell_type": "raw",
   "metadata": {},
   "source": [
    "총 5명의 학생이 시험을 보았는데, 시험점수가 60점을 넘으면 합격이고\n",
    "그렇지 않으면 불합격이다.\n",
    "합격, 불합격 보여주기"
   ]
  },
  {
   "cell_type": "code",
   "execution_count": null,
   "metadata": {},
   "outputs": [
    {
     "name": "stdout",
     "output_type": "stream",
     "text": [
      "1의 학생은 합격입니다.\n",
      "2의 학생은 불합격입니다.\n",
      "3의 학생은 합격입니다.\n",
      "4의 학생은 불합격입니다.\n",
      "5의 학생은 합격입니다.\n"
     ]
    }
   ],
   "source": [
    "scores = [90, 25, 67, 45, 80]\n",
    "\n",
    "for number in range(len(scores)):\n",
    "     print(\"%d의 학생은 %s입니다.\"%(number+1,(\"합격\" if scores[number] > 60  else \"불합격\")))\n",
    " "
   ]
  },
  {
   "cell_type": "code",
   "execution_count": null,
   "metadata": {},
   "outputs": [
    {
     "name": "stdout",
     "output_type": "stream",
     "text": [
      "1의 학생은 합격 입니다.\n",
      "2의 학생은 불합격 입니다.\n",
      "3의 학생은 합격 입니다.\n",
      "4의 학생은 불합격 입니다.\n",
      "5의 학생은 합격 입니다.\n"
     ]
    }
   ],
   "source": [
    "scores = [90, 25, 67, 45, 80]\n",
    "number = 1\n",
    "\n",
    "for score in scores:\n",
    "\n",
    "    if score > 60:\n",
    "        print(\"%d의 학생은 %s 입니다.\"%(number,\"합격\"))\n",
    "    else : \n",
    "        print(\"%d의 학생은 %s 입니다.\"%(number,\"불합격\"))\n",
    "    number +=1"
   ]
  },
  {
   "cell_type": "code",
   "execution_count": null,
   "metadata": {},
   "outputs": [
    {
     "name": "stdout",
     "output_type": "stream",
     "text": [
      "1의 학생은 점수가 90이므로 합격입니다.\n",
      "2의 학생은 점수가 25이어서 불합격입니다.\n",
      "3의 학생은 점수가 67이므로 합격입니다.\n",
      "4의 학생은 점수가 45이어서 불합격입니다.\n",
      "5의 학생은 점수가 80이므로 합격입니다.\n"
     ]
    }
   ],
   "source": [
    "scores = [90, 25, 67, 45, 80]\n",
    "number = 1\n",
    "\n",
    "for score in scores:\n",
    "    if score > 60:\n",
    "        print(\"%d의 학생은 점수가 %d이므로 %s입니다.\"%(number,score,\"합격\"))\n",
    "    else : \n",
    "        print(\"%d의 학생은 점수가 %d이어서 %s입니다.\"%(number,score,\"불합격\"))\n",
    "    number +=1"
   ]
  },
  {
   "cell_type": "raw",
   "metadata": {},
   "source": [
    "학생들 점수의 평균을 구하여 평균점수 보다 낮으면 불합격\n",
    "평균점수보다 같거나 높으면 학격을 위의 출력과 같이 보여주기"
   ]
  },
  {
   "cell_type": "code",
   "execution_count": null,
   "metadata": {},
   "outputs": [
    {
     "name": "stdout",
     "output_type": "stream",
     "text": [
      "학급의 평균점수는 61.40 입니다.\n",
      "\n",
      "1의 학생은 점수가 90이므로 합격입니다.\n",
      "2의 학생은 점수가 25이어서 불합격입니다.\n",
      "3의 학생은 점수가 67이므로 합격입니다.\n",
      "4의 학생은 점수가 45이어서 불합격입니다.\n",
      "5의 학생은 점수가 80이므로 합격입니다.\n"
     ]
    }
   ],
   "source": [
    "import numpy as np\n",
    "scores = [90, 25, 67, 45, 80]\n",
    "number = 1\n",
    "\n",
    "print(\"학급의 평균점수는 %.2f 입니다.\"%np.mean(scores))\n",
    "print()\n",
    "for score in scores:\n",
    "    if score > 60:\n",
    "        print(\"%d의 학생은 점수가 %d이므로 %s입니다.\"%(number,score,\"합격\"))\n",
    "    else : \n",
    "        print(\"%d의 학생은 점수가 %d이어서 %s입니다.\"%(number,score,\"불합격\"))\n",
    "    number +=1"
   ]
  },
  {
   "cell_type": "code",
   "execution_count": null,
   "metadata": {},
   "outputs": [
    {
     "name": "stdout",
     "output_type": "stream",
     "text": [
      "1의 학생은 합격입니다.\n",
      "3의 학생은 합격입니다.\n",
      "5의 학생은 합격입니다.\n"
     ]
    }
   ],
   "source": [
    "scores = [90, 25, 67, 45, 80]\n",
    "number = 1\n",
    "\n",
    "for score in scores:\n",
    "    if score > 60:\n",
    "        print(\"%d의 학생은 %s입니다.\"%(number,\"합격\"))\n",
    "    number +=1\n",
    "    continue"
   ]
  },
  {
   "cell_type": "raw",
   "metadata": {},
   "source": [
    "총 5명의 학생이 시험을 보았는데 시험점수가 60점을 넘으면 합격이고 그렇지 않으면 불합격이다.\n",
    "합격인 학생들의 번호만 새로운 list를 생성하여 출력하기"
   ]
  },
  {
   "cell_type": "code",
   "execution_count": null,
   "metadata": {},
   "outputs": [
    {
     "name": "stdout",
     "output_type": "stream",
     "text": [
      "합격자 짝짝\n",
      "---------\n",
      "    2     \n",
      "    3     \n",
      "    4     \n",
      "    5     \n",
      "    6     \n"
     ]
    }
   ],
   "source": [
    "scores = [90, 25, 67, 45, 80]\n",
    "number = 1\n",
    "wow = []\n",
    "\n",
    "print(\"합격자 짝짝\")\n",
    "print(\"---------\")\n",
    "for score in scores:\n",
    "   if score > 60:\n",
    "      wow.append(number)\n",
    "   number +=1\n",
    "   print('{0:^10}'.format(\"%d\"%number))"
   ]
  },
  {
   "cell_type": "markdown",
   "metadata": {},
   "source": [
    "---\n",
    "# 문장과 단어 추출"
   ]
  },
  {
   "cell_type": "code",
   "execution_count": null,
   "metadata": {},
   "outputs": [],
   "source": [
    "string = \"\"\"나는 홍길동 입니다.\n",
    "주소는 서울시 입니다.\n",
    "나이는 35세 입니다.\"\"\""
   ]
  },
  {
   "cell_type": "code",
   "execution_count": null,
   "metadata": {},
   "outputs": [
    {
     "data": {
      "text/plain": [
       "'나는 홍길동 입니다.\\n주소는 서울시 입니다.\\n나이는 35세 입니다.'"
      ]
     },
     "execution_count": 81,
     "metadata": {},
     "output_type": "execute_result"
    }
   ],
   "source": [
    "string"
   ]
  },
  {
   "cell_type": "code",
   "execution_count": null,
   "metadata": {},
   "outputs": [
    {
     "name": "stdout",
     "output_type": "stream",
     "text": [
      "['나는 홍길동 입니다.', '주소는 서울시 입니다.', '나이는 35세 입니다.']\n",
      "['나는', '홍길동', '입니다.', '주소는', '서울시', '입니다.', '나이는', '35세', '입니다.']\n"
     ]
    }
   ],
   "source": [
    "# 문단 -> 문장\n",
    "sents = [] #문장 저장\n",
    "words = [] #단어 저장\n",
    "\n",
    "# 문단 -> 문장\n",
    "for sen in string.split('\\n'):\n",
    "    sents.append(sen)\n",
    "    # 문장 -> 단어\n",
    "    for word in sen.split():\n",
    "        words.append(word)\n",
    "\n",
    "print(sents)\n",
    "print(words)"
   ]
  },
  {
   "cell_type": "code",
   "execution_count": null,
   "metadata": {},
   "outputs": [
    {
     "data": {
      "text/plain": [
       "[5, 10, 15, 20]"
      ]
     },
     "execution_count": 85,
     "metadata": {},
     "output_type": "execute_result"
    }
   ],
   "source": [
    "var01 = [1,2,3,4]\n",
    "var02 = []\n",
    "# var02에 var01의 인덱스 번호에 각각 5를 곱하여 출력하기\n",
    "\n",
    "for i in var01:\n",
    "    var02.append(i * 5)\n",
    "\n",
    "var02"
   ]
  },
  {
   "cell_type": "markdown",
   "metadata": {},
   "source": [
    "# 파이썬의 listed for 문"
   ]
  },
  {
   "cell_type": "code",
   "execution_count": null,
   "metadata": {},
   "outputs": [
    {
     "data": {
      "text/plain": [
       "[5, 10, 15, 20]"
      ]
     },
     "execution_count": 86,
     "metadata": {},
     "output_type": "execute_result"
    }
   ],
   "source": [
    "var01 = [1,2,3,4]\n",
    "var02 = [i * 5 for i in var01 ]\n",
    "var02"
   ]
  },
  {
   "cell_type": "code",
   "execution_count": null,
   "metadata": {},
   "outputs": [
    {
     "data": {
      "text/plain": [
       "[10, 20]"
      ]
     },
     "execution_count": 92,
     "metadata": {},
     "output_type": "execute_result"
    }
   ],
   "source": [
    "# var01의 데이터가 짝수인 경우에만 5를 곱하여 var02 list 만들기\n",
    "# for i in var01:\n",
    "#     if i %2 == 0:\n",
    "#         print(i*5)\n",
    "var01 = [1,2,3,4]\n",
    "var02 = [ i * 5 for i in var01 if i % 2 == 0]\n",
    "var02"
   ]
  }
 ],
 "metadata": {
  "kernelspec": {
   "display_name": "Python 3.9.7 ('base')",
   "language": "python",
   "name": "python3"
  },
  "language_info": {
   "codemirror_mode": {
    "name": "ipython",
    "version": 3
   },
   "file_extension": ".py",
   "mimetype": "text/x-python",
   "name": "python",
   "nbconvert_exporter": "python",
   "pygments_lexer": "ipython3",
   "version": "3.9.7"
  },
  "orig_nbformat": 4,
  "vscode": {
   "interpreter": {
    "hash": "c34e8390e776d2ee205b71ed5a6130fee3cef8da5e87e926ce18e14f4a070d72"
   }
  }
 },
 "nbformat": 4,
 "nbformat_minor": 2
}
