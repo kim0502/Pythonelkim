{
 "cells": [
  {
   "cell_type": "markdown",
   "metadata": {},
   "source": [
    "# Class"
   ]
  },
  {
   "cell_type": "code",
   "execution_count": 1,
   "metadata": {},
   "outputs": [],
   "source": [
    "# clas 선언\n",
    "class Services:\n",
    "    secret = \"임금님 귀는 당나귀 귀다!\""
   ]
  },
  {
   "cell_type": "code",
   "execution_count": 2,
   "metadata": {},
   "outputs": [
    {
     "name": "stdout",
     "output_type": "stream",
     "text": [
      "임금님 귀는 당나귀 귀다!\n"
     ]
    }
   ],
   "source": [
    "# instance를 만들어서 class를 사용\n",
    "instance01 = Services()\n",
    "print(instance01.secret)"
   ]
  },
  {
   "cell_type": "code",
   "execution_count": 3,
   "metadata": {},
   "outputs": [],
   "source": [
    "class Services:\n",
    "    secret = \"임금님 귀는 당나귀 귀다!\"\n",
    "    def sum(self, num01, num02):\n",
    "        result = num01 + num02\n",
    "        print(\"%d + %d = %d 입니다!\"%(num01,num02,result))"
   ]
  },
  {
   "cell_type": "code",
   "execution_count": 4,
   "metadata": {},
   "outputs": [
    {
     "name": "stdout",
     "output_type": "stream",
     "text": [
      "임금님 귀는 당나귀 귀다!\n",
      "2 + 3 = 5 입니다!\n",
      "None\n"
     ]
    }
   ],
   "source": [
    "instance01 = Services() # 생성자\n",
    "print(instance01.secret)\n",
    "print(instance01.sum(2,3))"
   ]
  },
  {
   "cell_type": "code",
   "execution_count": 5,
   "metadata": {},
   "outputs": [],
   "source": [
    "class Services:\n",
    "    name = \"\"\n",
    "    secret = \"임금님 귀는 당나귀 귀다!\"\n",
    "    def setname(self, name):\n",
    "        self.name = name\n",
    "    def sum(self, num01, num02):\n",
    "        result = num01 + num02\n",
    "        print(\"%s님!  %d + %d = %d 입니다!\"%(self.name,num01,num02,result))"
   ]
  },
  {
   "cell_type": "code",
   "execution_count": 9,
   "metadata": {},
   "outputs": [
    {
     "name": "stdout",
     "output_type": "stream",
     "text": [
      "유비님! + 2 + 3 = 5 입니다!\n"
     ]
    }
   ],
   "source": [
    "instance01 = Services()\n",
    "instance01.setname(\"유비\")\n",
    "instance01.sum(2,3)"
   ]
  },
  {
   "cell_type": "code",
   "execution_count": 10,
   "metadata": {},
   "outputs": [],
   "source": [
    "class Services:\n",
    "    name = \"\"\n",
    "    secret = \"임금님 귀는 당나귀 귀다!\"\n",
    "    def __init__(self, name):\n",
    "        self.name = name\n",
    "    def sum(self, num01, num02):\n",
    "        result = num01 + num02\n",
    "        print(\"%s님!  %d + %d = %d 입니다!\"%(self.name,num01,num02,result))"
   ]
  },
  {
   "cell_type": "code",
   "execution_count": 11,
   "metadata": {},
   "outputs": [
    {
     "name": "stdout",
     "output_type": "stream",
     "text": [
      "관우님! + 2 + 3 = 5 입니다!\n"
     ]
    }
   ],
   "source": [
    "instance01 =Services(\"관우\")\n",
    "instance01.sum(2,3)"
   ]
  },
  {
   "cell_type": "code",
   "execution_count": 12,
   "metadata": {},
   "outputs": [],
   "source": [
    "class Calc:\n",
    "    def setData(self, num1, num2):\n",
    "        self.num1 = num1\n",
    "        self.num2 = num2\n",
    "    def sum(self):\n",
    "        result = self.num1 + self.num2  # result는 값을 저장\n",
    "        return result  # return은 저장한 값을 전달\n",
    "    def mul(self):\n",
    "        result = self.num1 * self.num2\n",
    "        return result     \n",
    "    def sub(self):\n",
    "        result = self.num1 - self.num2\n",
    "        return result       \n",
    "    def div(self):\n",
    "        result = self.num1 / self.num2\n",
    "        return result\n",
    "     \n"
   ]
  },
  {
   "cell_type": "code",
   "execution_count": 13,
   "metadata": {},
   "outputs": [
    {
     "name": "stdout",
     "output_type": "stream",
     "text": [
      "덧셈 6\n",
      "곱셈 8\n",
      "뺄셈 2\n",
      "나눗셈 2.0\n"
     ]
    }
   ],
   "source": [
    "calc01 =Calc()\n",
    "calc01.setData(4, 2)\n",
    "print(\"덧셈\", calc01.sum())\n",
    "print(\"곱셈\", calc01.mul())\n",
    "print(\"뺄셈\", calc01.sub())\n",
    "print(\"나눗셈\", calc01.div())"
   ]
  },
  {
   "cell_type": "code",
   "execution_count": null,
   "metadata": {},
   "outputs": [],
   "source": []
  }
 ],
 "metadata": {
  "kernelspec": {
   "display_name": "Python 3.8.9 64-bit",
   "language": "python",
   "name": "python3"
  },
  "language_info": {
   "codemirror_mode": {
    "name": "ipython",
    "version": 3
   },
   "file_extension": ".py",
   "mimetype": "text/x-python",
   "name": "python",
   "nbconvert_exporter": "python",
   "pygments_lexer": "ipython3",
   "version": "3.8.9"
  },
  "orig_nbformat": 4,
  "vscode": {
   "interpreter": {
    "hash": "31f2aee4e71d21fbe5cf8b01ff0e069b9275f58929596ceb00d14d90e3e16cd6"
   }
  }
 },
 "nbformat": 4,
 "nbformat_minor": 2
}
