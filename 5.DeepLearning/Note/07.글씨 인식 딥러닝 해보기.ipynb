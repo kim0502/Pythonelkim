{
 "cells": [
  {
   "cell_type": "markdown",
   "metadata": {},
   "source": [
    "# Keras를 이용한 손글씨 인식 딥러닝\n",
    "- Tensorflow로 작성된 프로그램은 sklearn Library를 사용할 때 보다 어렵다.\n",
    "- "
   ]
  },
  {
   "cell_type": "code",
   "execution_count": 7,
   "metadata": {},
   "outputs": [
    {
     "name": "stdout",
     "output_type": "stream",
     "text": [
      "   0    1    2    3    4    5    6    7    8    9    ...  775  776  777  778  \\\n",
      "0    5    0    0    0    0    0    0    0    0    0  ...    0    0    0    0   \n",
      "1    0    0    0    0    0    0    0    0    0    0  ...    0    0    0    0   \n",
      "2    4    0    0    0    0    0    0    0    0    0  ...    0    0    0    0   \n",
      "3    1    0    0    0    0    0    0    0    0    0  ...    0    0    0    0   \n",
      "4    9    0    0    0    0    0    0    0    0    0  ...    0    0    0    0   \n",
      "\n",
      "   779  780  781  782  783  784  \n",
      "0    0    0    0    0    0    0  \n",
      "1    0    0    0    0    0    0  \n",
      "2    0    0    0    0    0    0  \n",
      "3    0    0    0    0    0    0  \n",
      "4    0    0    0    0    0    0  \n",
      "\n",
      "[5 rows x 785 columns]\n",
      "   0    1    2    3    4    5    6    7    8    9    ...  775  776  777  778  \\\n",
      "0    7    0    0    0    0    0    0    0    0    0  ...    0    0    0    0   \n",
      "1    2    0    0    0    0    0    0    0    0    0  ...    0    0    0    0   \n",
      "2    1    0    0    0    0    0    0    0    0    0  ...    0    0    0    0   \n",
      "3    0    0    0    0    0    0    0    0    0    0  ...    0    0    0    0   \n",
      "4    4    0    0    0    0    0    0    0    0    0  ...    0    0    0    0   \n",
      "\n",
      "   779  780  781  782  783  784  \n",
      "0    0    0    0    0    0    0  \n",
      "1    0    0    0    0    0    0  \n",
      "2    0    0    0    0    0    0  \n",
      "3    0    0    0    0    0    0  \n",
      "4    0    0    0    0    0    0  \n",
      "\n",
      "[5 rows x 785 columns]\n",
      "0      20001\n",
      "1      20001\n",
      "2      20001\n",
      "3      20001\n",
      "4      20001\n",
      "       ...  \n",
      "780    20001\n",
      "781    20001\n",
      "782    20001\n",
      "783    20001\n",
      "784    20001\n",
      "Length: 785, dtype: int64\n"
     ]
    }
   ],
   "source": [
    "import pandas as pd\n",
    "train = pd.read_csv(\"../Data/train_20k.csv\", header=None)\n",
    "test = pd.read_csv('../Data/test_1k.csv', header=None)\n",
    "print(train.head())\n",
    "print(test.head())\n",
    "print(train.count())"
   ]
  },
  {
   "cell_type": "markdown",
   "metadata": {},
   "source": [
    "---\n",
    "## Preprocessing(전처리)"
   ]
  },
  {
   "cell_type": "code",
   "execution_count": 8,
   "metadata": {},
   "outputs": [
    {
     "data": {
      "text/plain": [
       "0"
      ]
     },
     "execution_count": 8,
     "metadata": {},
     "output_type": "execute_result"
    }
   ],
   "source": [
    "# null\n",
    "train.isnull().sum().sum()"
   ]
  },
  {
   "cell_type": "code",
   "execution_count": 9,
   "metadata": {},
   "outputs": [
    {
     "data": {
      "text/plain": [
       "0"
      ]
     },
     "execution_count": 9,
     "metadata": {},
     "output_type": "execute_result"
    }
   ],
   "source": [
    "test.isnull().sum().sum()"
   ]
  },
  {
   "cell_type": "code",
   "execution_count": 11,
   "metadata": {},
   "outputs": [
    {
     "name": "stdout",
     "output_type": "stream",
     "text": [
      "   0\n",
      "0  5\n",
      "1  0\n",
      "2  4\n",
      "3  1\n",
      "4  9\n",
      "   1    2    3    4    5    6    7    8    9    10   ...  775  776  777  778  \\\n",
      "0  0.0  0.0  0.0  0.0  0.0  0.0  0.0  0.0  0.0  0.0  ...  0.0  0.0  0.0  0.0   \n",
      "1  0.0  0.0  0.0  0.0  0.0  0.0  0.0  0.0  0.0  0.0  ...  0.0  0.0  0.0  0.0   \n",
      "2  0.0  0.0  0.0  0.0  0.0  0.0  0.0  0.0  0.0  0.0  ...  0.0  0.0  0.0  0.0   \n",
      "3  0.0  0.0  0.0  0.0  0.0  0.0  0.0  0.0  0.0  0.0  ...  0.0  0.0  0.0  0.0   \n",
      "4  0.0  0.0  0.0  0.0  0.0  0.0  0.0  0.0  0.0  0.0  ...  0.0  0.0  0.0  0.0   \n",
      "\n",
      "   779  780  781  782  783  784  \n",
      "0  0.0  0.0  0.0  0.0  0.0  0.0  \n",
      "1  0.0  0.0  0.0  0.0  0.0  0.0  \n",
      "2  0.0  0.0  0.0  0.0  0.0  0.0  \n",
      "3  0.0  0.0  0.0  0.0  0.0  0.0  \n",
      "4  0.0  0.0  0.0  0.0  0.0  0.0  \n",
      "\n",
      "[5 rows x 784 columns]\n",
      "********************\n",
      "   0\n",
      "0  7\n",
      "1  2\n",
      "2  1\n",
      "3  0\n",
      "4  4\n",
      "   1    2    3    4    5    6    7    8    9    10   ...  775  776  777  778  \\\n",
      "0  0.0  0.0  0.0  0.0  0.0  0.0  0.0  0.0  0.0  0.0  ...  0.0  0.0  0.0  0.0   \n",
      "1  0.0  0.0  0.0  0.0  0.0  0.0  0.0  0.0  0.0  0.0  ...  0.0  0.0  0.0  0.0   \n",
      "2  0.0  0.0  0.0  0.0  0.0  0.0  0.0  0.0  0.0  0.0  ...  0.0  0.0  0.0  0.0   \n",
      "3  0.0  0.0  0.0  0.0  0.0  0.0  0.0  0.0  0.0  0.0  ...  0.0  0.0  0.0  0.0   \n",
      "4  0.0  0.0  0.0  0.0  0.0  0.0  0.0  0.0  0.0  0.0  ...  0.0  0.0  0.0  0.0   \n",
      "\n",
      "   779  780  781  782  783  784  \n",
      "0  0.0  0.0  0.0  0.0  0.0  0.0  \n",
      "1  0.0  0.0  0.0  0.0  0.0  0.0  \n",
      "2  0.0  0.0  0.0  0.0  0.0  0.0  \n",
      "3  0.0  0.0  0.0  0.0  0.0  0.0  \n",
      "4  0.0  0.0  0.0  0.0  0.0  0.0  \n",
      "\n",
      "[5 rows x 784 columns]\n"
     ]
    }
   ],
   "source": [
    "# train과 test를 Feature와 Target으로 분리하고 정규화 하기\n",
    "train_label = train.loc[:, train.columns == 0]\n",
    "train_data = train.loc[:, train.columns != 0]\n",
    "train_data = train_data / 225\n",
    "\n",
    "test_label = test.loc[:, test.columns == 0]\n",
    "test_data = test.loc[:, test.columns != 0]\n",
    "test_data = test_data / 225\n",
    "\n",
    "print(train_label[0:5])\n",
    "print(train_data[0:5])\n",
    "print('*'*20)\n",
    "print(test_label[0:5])\n",
    "print(test_data[0:5])"
   ]
  },
  {
   "cell_type": "markdown",
   "metadata": {},
   "source": [
    "---\n",
    "## Deep Learning Model 만들기\n"
   ]
  },
  {
   "cell_type": "code",
   "execution_count": 12,
   "metadata": {},
   "outputs": [],
   "source": [
    "# GPU 사용 설정\n",
    "\n",
    "import os\n",
    "os.environ['TF_CPP_MIN_LOG_LEVEL'] ='3' "
   ]
  },
  {
   "cell_type": "code",
   "execution_count": 13,
   "metadata": {},
   "outputs": [],
   "source": [
    "from tensorflow import keras"
   ]
  },
  {
   "cell_type": "code",
   "execution_count": 15,
   "metadata": {},
   "outputs": [
    {
     "data": {
      "text/plain": [
       "(20001, 785)"
      ]
     },
     "execution_count": 15,
     "metadata": {},
     "output_type": "execute_result"
    }
   ],
   "source": [
    "train.shape"
   ]
  },
  {
   "cell_type": "code",
   "execution_count": 16,
   "metadata": {},
   "outputs": [],
   "source": [
    "model = keras.Sequential()\n",
    "model.add(keras.layers.Dense(512, activation ='relu', input_shape=(784,))) \n",
    "#은닉층  #input_shape=(784,)입력층 정보를 넣어줌, 784는 즉 컬럼수 이다\n",
    "model.add(keras.layers.Dense(10, activation='softmax')) # 출력층"
   ]
  },
  {
   "cell_type": "code",
   "execution_count": 17,
   "metadata": {},
   "outputs": [],
   "source": [
    "from pickletools import optimize # 경사하강법\n",
    "\n",
    "from sklearn import metrics \n",
    "\n",
    "\n",
    "model.compile(\n",
    "    optimizer = 'adam',\n",
    "    loss = 'sparse_categorical_crossentropy', # 정수\n",
    "    metrics=['accuracy']\n",
    ")"
   ]
  },
  {
   "cell_type": "code",
   "execution_count": 18,
   "metadata": {},
   "outputs": [
    {
     "name": "stdout",
     "output_type": "stream",
     "text": [
      "Epoch 1/50\n",
      "626/626 [==============================] - 3s 3ms/step - loss: 0.3096 - accuracy: 0.9105\n",
      "Epoch 2/50\n",
      "626/626 [==============================] - 2s 3ms/step - loss: 0.1222 - accuracy: 0.9642\n",
      "Epoch 3/50\n",
      "626/626 [==============================] - 2s 3ms/step - loss: 0.0776 - accuracy: 0.9767\n",
      "Epoch 4/50\n",
      "626/626 [==============================] - 2s 3ms/step - loss: 0.0483 - accuracy: 0.9863\n",
      "Epoch 5/50\n",
      "626/626 [==============================] - 2s 3ms/step - loss: 0.0303 - accuracy: 0.9913\n",
      "Epoch 6/50\n",
      "626/626 [==============================] - 2s 3ms/step - loss: 0.0258 - accuracy: 0.9922\n",
      "Epoch 7/50\n",
      "626/626 [==============================] - 2s 3ms/step - loss: 0.0178 - accuracy: 0.9951\n",
      "Epoch 8/50\n",
      "626/626 [==============================] - 2s 3ms/step - loss: 0.0119 - accuracy: 0.9972\n",
      "Epoch 9/50\n",
      "626/626 [==============================] - 2s 3ms/step - loss: 0.0217 - accuracy: 0.9940\n",
      "Epoch 10/50\n",
      "626/626 [==============================] - 2s 3ms/step - loss: 0.0071 - accuracy: 0.9982\n",
      "Epoch 11/50\n",
      "626/626 [==============================] - 2s 3ms/step - loss: 0.0075 - accuracy: 0.9978\n",
      "Epoch 12/50\n",
      "626/626 [==============================] - 2s 3ms/step - loss: 0.0081 - accuracy: 0.9979\n",
      "Epoch 13/50\n",
      "626/626 [==============================] - 2s 3ms/step - loss: 0.0189 - accuracy: 0.9936\n",
      "Epoch 14/50\n",
      "626/626 [==============================] - 2s 3ms/step - loss: 0.0018 - accuracy: 0.9997\n",
      "Epoch 15/50\n",
      "626/626 [==============================] - 2s 3ms/step - loss: 5.7316e-04 - accuracy: 1.0000\n",
      "Epoch 16/50\n",
      "626/626 [==============================] - 2s 3ms/step - loss: 2.4979e-04 - accuracy: 1.0000\n",
      "Epoch 17/50\n",
      "626/626 [==============================] - 2s 3ms/step - loss: 1.7674e-04 - accuracy: 1.0000\n",
      "Epoch 18/50\n",
      "626/626 [==============================] - 2s 3ms/step - loss: 1.3345e-04 - accuracy: 1.0000\n",
      "Epoch 19/50\n",
      "626/626 [==============================] - 2s 3ms/step - loss: 1.0651e-04 - accuracy: 1.0000\n",
      "Epoch 20/50\n",
      "626/626 [==============================] - 2s 3ms/step - loss: 8.4425e-05 - accuracy: 1.0000\n",
      "Epoch 21/50\n",
      "626/626 [==============================] - 2s 3ms/step - loss: 7.3178e-05 - accuracy: 1.0000\n",
      "Epoch 22/50\n",
      "626/626 [==============================] - 2s 3ms/step - loss: 5.2814e-05 - accuracy: 1.0000\n",
      "Epoch 23/50\n",
      "626/626 [==============================] - 2s 3ms/step - loss: 4.4958e-05 - accuracy: 1.0000\n",
      "Epoch 24/50\n",
      "626/626 [==============================] - 2s 3ms/step - loss: 0.0436 - accuracy: 0.9888\n",
      "Epoch 25/50\n",
      "626/626 [==============================] - 2s 3ms/step - loss: 0.0043 - accuracy: 0.9987\n",
      "Epoch 26/50\n",
      "626/626 [==============================] - 2s 3ms/step - loss: 6.9616e-04 - accuracy: 0.9999\n",
      "Epoch 27/50\n",
      "626/626 [==============================] - 2s 3ms/step - loss: 2.3961e-04 - accuracy: 1.0000\n",
      "Epoch 28/50\n",
      "626/626 [==============================] - 2s 3ms/step - loss: 1.1551e-04 - accuracy: 1.0000\n",
      "Epoch 29/50\n",
      "626/626 [==============================] - 2s 3ms/step - loss: 8.9165e-05 - accuracy: 1.0000\n",
      "Epoch 30/50\n",
      "626/626 [==============================] - 2s 3ms/step - loss: 7.0561e-05 - accuracy: 1.0000\n",
      "Epoch 31/50\n",
      "626/626 [==============================] - 2s 3ms/step - loss: 5.5231e-05 - accuracy: 1.0000\n",
      "Epoch 32/50\n",
      "626/626 [==============================] - 2s 3ms/step - loss: 4.3755e-05 - accuracy: 1.0000\n",
      "Epoch 33/50\n",
      "626/626 [==============================] - 2s 3ms/step - loss: 3.4842e-05 - accuracy: 1.0000\n",
      "Epoch 34/50\n",
      "626/626 [==============================] - 2s 3ms/step - loss: 2.7755e-05 - accuracy: 1.0000\n",
      "Epoch 35/50\n",
      "626/626 [==============================] - 2s 3ms/step - loss: 2.1331e-05 - accuracy: 1.0000\n",
      "Epoch 36/50\n",
      "626/626 [==============================] - 2s 3ms/step - loss: 1.7125e-05 - accuracy: 1.0000\n",
      "Epoch 37/50\n",
      "626/626 [==============================] - 2s 3ms/step - loss: 1.3007e-05 - accuracy: 1.0000\n",
      "Epoch 38/50\n",
      "626/626 [==============================] - 2s 3ms/step - loss: 1.0497e-05 - accuracy: 1.0000\n",
      "Epoch 39/50\n",
      "626/626 [==============================] - 2s 3ms/step - loss: 7.8756e-06 - accuracy: 1.0000\n",
      "Epoch 40/50\n",
      "626/626 [==============================] - 2s 3ms/step - loss: 6.0216e-06 - accuracy: 1.0000\n",
      "Epoch 41/50\n",
      "626/626 [==============================] - 2s 3ms/step - loss: 4.7798e-06 - accuracy: 1.0000\n",
      "Epoch 42/50\n",
      "626/626 [==============================] - 2s 3ms/step - loss: 0.0326 - accuracy: 0.9931\n",
      "Epoch 43/50\n",
      "626/626 [==============================] - 2s 3ms/step - loss: 0.0176 - accuracy: 0.9948\n",
      "Epoch 44/50\n",
      "626/626 [==============================] - 2s 3ms/step - loss: 0.0016 - accuracy: 0.9996\n",
      "Epoch 45/50\n",
      "626/626 [==============================] - 2s 3ms/step - loss: 4.4161e-04 - accuracy: 0.9999\n",
      "Epoch 46/50\n",
      "626/626 [==============================] - 2s 3ms/step - loss: 6.2129e-05 - accuracy: 1.0000\n",
      "Epoch 47/50\n",
      "626/626 [==============================] - 2s 3ms/step - loss: 4.1054e-05 - accuracy: 1.0000\n",
      "Epoch 48/50\n",
      "626/626 [==============================] - 2s 3ms/step - loss: 3.1338e-05 - accuracy: 1.0000\n",
      "Epoch 49/50\n",
      "626/626 [==============================] - 3s 4ms/step - loss: 2.5470e-05 - accuracy: 1.0000\n",
      "Epoch 50/50\n",
      "626/626 [==============================] - 2s 3ms/step - loss: 2.0541e-05 - accuracy: 1.0000\n"
     ]
    },
    {
     "data": {
      "text/plain": [
       "<keras.callbacks.History at 0x7fdc6659af40>"
      ]
     },
     "execution_count": 18,
     "metadata": {},
     "output_type": "execute_result"
    }
   ],
   "source": [
    "# 데이터 훈련하기\n",
    "import numpy as np\n",
    "\n",
    "model.fit(\n",
    "    np.array(train_data),\n",
    "    np.array(train_label),\n",
    "    epochs=50\n",
    ")"
   ]
  },
  {
   "cell_type": "markdown",
   "metadata": {},
   "source": [
    "---\n",
    "# 테스트 데이터로 평가하기"
   ]
  },
  {
   "cell_type": "code",
   "execution_count": 19,
   "metadata": {},
   "outputs": [
    {
     "name": "stdout",
     "output_type": "stream",
     "text": [
      "32/32 [==============================] - 0s 2ms/step - loss: 0.1123 - accuracy: 0.9800\n",
      "loss : 0.11229763180017471\n",
      "accuracy : 0.9800199866294861\n"
     ]
    }
   ],
   "source": [
    "score = model.evaluate(test_data, test_label)\n",
    "print(\"loss :\", score[0])\n",
    "print('accuracy :', score[1])"
   ]
  },
  {
   "cell_type": "markdown",
   "metadata": {},
   "source": [
    "---\n",
    "# test_data로 predict해보기"
   ]
  },
  {
   "cell_type": "code",
   "execution_count": 21,
   "metadata": {},
   "outputs": [
    {
     "name": "stdout",
     "output_type": "stream",
     "text": [
      "32/32 [==============================] - 0s 2ms/step\n",
      "test label :    0\n",
      "0  7\n",
      "1  2\n",
      "2  1\n",
      "3  0\n",
      "4  4\n",
      "5  1\n",
      "6  4\n",
      "7  9\n",
      "8  5\n",
      "9  9\n",
      "pred : [7 2 1 0 4 1 4 9 5 9]\n"
     ]
    }
   ],
   "source": [
    "pred = model.predict(test_data)\n",
    "print('test label :',test_label[:10])\n",
    "print('pred :',np.argmax(pred[:10], axis=1)) #argmax는 인덱스를 의미"
   ]
  },
  {
   "cell_type": "code",
   "execution_count": 25,
   "metadata": {},
   "outputs": [
    {
     "data": {
      "text/plain": [
       "array([1, 4, 3, 2])"
      ]
     },
     "execution_count": 25,
     "metadata": {},
     "output_type": "execute_result"
    }
   ],
   "source": [
    "np.array([1,4,3,2])"
   ]
  },
  {
   "cell_type": "code",
   "execution_count": 24,
   "metadata": {},
   "outputs": [
    {
     "data": {
      "text/plain": [
       "1"
      ]
     },
     "execution_count": 24,
     "metadata": {},
     "output_type": "execute_result"
    }
   ],
   "source": [
    "np.argmax(np.array([1,4,3,2]))"
   ]
  },
  {
   "cell_type": "code",
   "execution_count": 22,
   "metadata": {},
   "outputs": [
    {
     "data": {
      "text/plain": [
       "array([[2.5321019e-24, 4.3481114e-23, 2.4190909e-16, 5.5457100e-14,\n",
       "        1.0110214e-27, 1.0699914e-21, 1.2404115e-29, 1.0000000e+00,\n",
       "        1.3864385e-19, 6.5972363e-21],\n",
       "       [1.9403508e-22, 9.3685770e-09, 1.0000000e+00, 4.2400639e-11,\n",
       "        7.8896676e-33, 2.7166591e-19, 1.6896891e-21, 6.2487675e-26,\n",
       "        1.7808530e-20, 1.9276553e-28],\n",
       "       [7.5571968e-14, 9.9999881e-01, 1.7729930e-07, 3.7142403e-12,\n",
       "        1.2629138e-12, 6.7128872e-14, 3.7143930e-10, 1.0800629e-06,\n",
       "        2.2833673e-09, 4.4186024e-15],\n",
       "       [1.0000000e+00, 5.3741856e-21, 1.2353542e-10, 6.3599940e-18,\n",
       "        7.8270460e-18, 3.8140483e-16, 5.0296372e-13, 1.9340729e-11,\n",
       "        1.8135316e-22, 1.0109820e-10],\n",
       "       [1.8902096e-16, 6.8589348e-23, 3.0180094e-18, 1.9406785e-20,\n",
       "        1.0000000e+00, 6.8952264e-20, 1.2783902e-15, 8.6850727e-15,\n",
       "        1.2545633e-15, 7.7445850e-10],\n",
       "       [5.6166320e-20, 1.0000000e+00, 3.6522028e-14, 4.5672718e-17,\n",
       "        3.2681951e-16, 1.5637087e-21, 5.7541575e-17, 3.2580139e-08,\n",
       "        5.1257162e-14, 2.8433985e-19],\n",
       "       [5.1542107e-27, 3.3588279e-18, 1.0731436e-20, 9.9247909e-16,\n",
       "        1.0000000e+00, 5.2029343e-16, 4.5779773e-19, 5.0801870e-13,\n",
       "        3.0350137e-08, 1.6072256e-09],\n",
       "       [3.6409382e-20, 2.2962889e-24, 1.2625451e-11, 3.0225208e-10,\n",
       "        6.4168049e-09, 1.9147932e-13, 1.8167417e-25, 4.4732750e-12,\n",
       "        2.3086749e-15, 1.0000000e+00],\n",
       "       [4.0968869e-14, 1.3275033e-16, 1.2273416e-09, 6.8084566e-11,\n",
       "        5.0993389e-14, 5.0941235e-01, 4.9058762e-01, 6.5543468e-16,\n",
       "        1.2340527e-09, 2.3282778e-08],\n",
       "       [7.2111960e-24, 1.3008740e-27, 4.1059761e-18, 2.6685889e-12,\n",
       "        4.4511705e-09, 5.3121929e-17, 2.5377019e-23, 9.5231635e-11,\n",
       "        1.6401007e-13, 1.0000000e+00]], dtype=float32)"
      ]
     },
     "execution_count": 22,
     "metadata": {},
     "output_type": "execute_result"
    }
   ],
   "source": [
    "pred[:10] \n",
    "# 확률값으로 나온다."
   ]
  },
  {
   "cell_type": "markdown",
   "metadata": {},
   "source": [
    "---\n",
    "# 번외 : Image 만들기"
   ]
  },
  {
   "cell_type": "code",
   "execution_count": 26,
   "metadata": {},
   "outputs": [],
   "source": [
    "from PIL import Image"
   ]
  },
  {
   "cell_type": "code",
   "execution_count": 27,
   "metadata": {},
   "outputs": [
    {
     "data": {
      "text/html": [
       "<div>\n",
       "<style scoped>\n",
       "    .dataframe tbody tr th:only-of-type {\n",
       "        vertical-align: middle;\n",
       "    }\n",
       "\n",
       "    .dataframe tbody tr th {\n",
       "        vertical-align: top;\n",
       "    }\n",
       "\n",
       "    .dataframe thead th {\n",
       "        text-align: right;\n",
       "    }\n",
       "</style>\n",
       "<table border=\"1\" class=\"dataframe\">\n",
       "  <thead>\n",
       "    <tr style=\"text-align: right;\">\n",
       "      <th></th>\n",
       "      <th>1</th>\n",
       "      <th>2</th>\n",
       "      <th>3</th>\n",
       "      <th>4</th>\n",
       "      <th>5</th>\n",
       "      <th>6</th>\n",
       "      <th>7</th>\n",
       "      <th>8</th>\n",
       "      <th>9</th>\n",
       "      <th>10</th>\n",
       "      <th>...</th>\n",
       "      <th>775</th>\n",
       "      <th>776</th>\n",
       "      <th>777</th>\n",
       "      <th>778</th>\n",
       "      <th>779</th>\n",
       "      <th>780</th>\n",
       "      <th>781</th>\n",
       "      <th>782</th>\n",
       "      <th>783</th>\n",
       "      <th>784</th>\n",
       "    </tr>\n",
       "  </thead>\n",
       "  <tbody>\n",
       "    <tr>\n",
       "      <th>0</th>\n",
       "      <td>0</td>\n",
       "      <td>0</td>\n",
       "      <td>0</td>\n",
       "      <td>0</td>\n",
       "      <td>0</td>\n",
       "      <td>0</td>\n",
       "      <td>0</td>\n",
       "      <td>0</td>\n",
       "      <td>0</td>\n",
       "      <td>0</td>\n",
       "      <td>...</td>\n",
       "      <td>0</td>\n",
       "      <td>0</td>\n",
       "      <td>0</td>\n",
       "      <td>0</td>\n",
       "      <td>0</td>\n",
       "      <td>0</td>\n",
       "      <td>0</td>\n",
       "      <td>0</td>\n",
       "      <td>0</td>\n",
       "      <td>0</td>\n",
       "    </tr>\n",
       "    <tr>\n",
       "      <th>1</th>\n",
       "      <td>0</td>\n",
       "      <td>0</td>\n",
       "      <td>0</td>\n",
       "      <td>0</td>\n",
       "      <td>0</td>\n",
       "      <td>0</td>\n",
       "      <td>0</td>\n",
       "      <td>0</td>\n",
       "      <td>0</td>\n",
       "      <td>0</td>\n",
       "      <td>...</td>\n",
       "      <td>0</td>\n",
       "      <td>0</td>\n",
       "      <td>0</td>\n",
       "      <td>0</td>\n",
       "      <td>0</td>\n",
       "      <td>0</td>\n",
       "      <td>0</td>\n",
       "      <td>0</td>\n",
       "      <td>0</td>\n",
       "      <td>0</td>\n",
       "    </tr>\n",
       "    <tr>\n",
       "      <th>2</th>\n",
       "      <td>0</td>\n",
       "      <td>0</td>\n",
       "      <td>0</td>\n",
       "      <td>0</td>\n",
       "      <td>0</td>\n",
       "      <td>0</td>\n",
       "      <td>0</td>\n",
       "      <td>0</td>\n",
       "      <td>0</td>\n",
       "      <td>0</td>\n",
       "      <td>...</td>\n",
       "      <td>0</td>\n",
       "      <td>0</td>\n",
       "      <td>0</td>\n",
       "      <td>0</td>\n",
       "      <td>0</td>\n",
       "      <td>0</td>\n",
       "      <td>0</td>\n",
       "      <td>0</td>\n",
       "      <td>0</td>\n",
       "      <td>0</td>\n",
       "    </tr>\n",
       "    <tr>\n",
       "      <th>3</th>\n",
       "      <td>0</td>\n",
       "      <td>0</td>\n",
       "      <td>0</td>\n",
       "      <td>0</td>\n",
       "      <td>0</td>\n",
       "      <td>0</td>\n",
       "      <td>0</td>\n",
       "      <td>0</td>\n",
       "      <td>0</td>\n",
       "      <td>0</td>\n",
       "      <td>...</td>\n",
       "      <td>0</td>\n",
       "      <td>0</td>\n",
       "      <td>0</td>\n",
       "      <td>0</td>\n",
       "      <td>0</td>\n",
       "      <td>0</td>\n",
       "      <td>0</td>\n",
       "      <td>0</td>\n",
       "      <td>0</td>\n",
       "      <td>0</td>\n",
       "    </tr>\n",
       "    <tr>\n",
       "      <th>4</th>\n",
       "      <td>0</td>\n",
       "      <td>0</td>\n",
       "      <td>0</td>\n",
       "      <td>0</td>\n",
       "      <td>0</td>\n",
       "      <td>0</td>\n",
       "      <td>0</td>\n",
       "      <td>0</td>\n",
       "      <td>0</td>\n",
       "      <td>0</td>\n",
       "      <td>...</td>\n",
       "      <td>0</td>\n",
       "      <td>0</td>\n",
       "      <td>0</td>\n",
       "      <td>0</td>\n",
       "      <td>0</td>\n",
       "      <td>0</td>\n",
       "      <td>0</td>\n",
       "      <td>0</td>\n",
       "      <td>0</td>\n",
       "      <td>0</td>\n",
       "    </tr>\n",
       "  </tbody>\n",
       "</table>\n",
       "<p>5 rows × 784 columns</p>\n",
       "</div>"
      ],
      "text/plain": [
       "   1    2    3    4    5    6    7    8    9    10   ...  775  776  777  778  \\\n",
       "0    0    0    0    0    0    0    0    0    0    0  ...    0    0    0    0   \n",
       "1    0    0    0    0    0    0    0    0    0    0  ...    0    0    0    0   \n",
       "2    0    0    0    0    0    0    0    0    0    0  ...    0    0    0    0   \n",
       "3    0    0    0    0    0    0    0    0    0    0  ...    0    0    0    0   \n",
       "4    0    0    0    0    0    0    0    0    0    0  ...    0    0    0    0   \n",
       "\n",
       "   779  780  781  782  783  784  \n",
       "0    0    0    0    0    0    0  \n",
       "1    0    0    0    0    0    0  \n",
       "2    0    0    0    0    0    0  \n",
       "3    0    0    0    0    0    0  \n",
       "4    0    0    0    0    0    0  \n",
       "\n",
       "[5 rows x 784 columns]"
      ]
     },
     "execution_count": 27,
     "metadata": {},
     "output_type": "execute_result"
    }
   ],
   "source": [
    "# 0번의 정답을 제외한 데이터 만들기\n",
    "train1 = train.loc[:, train.columns !=0]\n",
    "train1.head()"
   ]
  },
  {
   "cell_type": "code",
   "execution_count": 29,
   "metadata": {},
   "outputs": [
    {
     "data": {
      "text/plain": [
       "(28, 28)"
      ]
     },
     "execution_count": 29,
     "metadata": {},
     "output_type": "execute_result"
    }
   ],
   "source": [
    "# train data의 50번의 크기 조절하기\n",
    "abc = np.array(train1.iloc[50]).reshape(28,28)\n",
    "abc.shape"
   ]
  },
  {
   "cell_type": "code",
   "execution_count": 30,
   "metadata": {},
   "outputs": [
    {
     "data": {
      "image/png": "[encoded data removed]",
      "text/plain": [
       "<PIL.Image.Image image mode=L size=28x28 at 0x7FDC672E7970>"
      ]
     },
     "execution_count": 30,
     "metadata": {},
     "output_type": "execute_result"
    }
   ],
   "source": [
    "# Image 만들기\n",
    "image =Image.fromarray((abc).astype(np.uint8))\n",
    "image"
   ]
  },
  {
   "cell_type": "code",
   "execution_count": 32,
   "metadata": {},
   "outputs": [],
   "source": [
    "# image 저장하기\n",
    "image.save(\"../Data/mnist_test3.jpg\",\"JPEG\")"
   ]
  },
  {
   "cell_type": "markdown",
   "metadata": {},
   "source": [
    "---\n",
    "# 이미지 불러서 Predict 해보기"
   ]
  },
  {
   "cell_type": "code",
   "execution_count": 34,
   "metadata": {},
   "outputs": [],
   "source": [
    "# Image 불러오기\n",
    "img = Image.open('../Data/mnist_test3.jpg')"
   ]
  },
  {
   "cell_type": "code",
   "execution_count": 35,
   "metadata": {},
   "outputs": [
    {
     "data": {
      "image/png": "[encoded data removed]",
      "text/plain": [
       "<Figure size 432x288 with 1 Axes>"
      ]
     },
     "metadata": {
      "needs_background": "light"
     },
     "output_type": "display_data"
    }
   ],
   "source": [
    "import matplotlib.pyplot as plt\n",
    "plt.imshow(img)\n",
    "plt.show()"
   ]
  },
  {
   "cell_type": "code",
   "execution_count": 36,
   "metadata": {},
   "outputs": [
    {
     "data": {
      "text/plain": [
       "(28, 28)"
      ]
     },
     "execution_count": 36,
     "metadata": {},
     "output_type": "execute_result"
    }
   ],
   "source": [
    "# image를 numpy 배열로 변환\n",
    "imgArray = np.array(img)\n",
    "imgArray = imgArray / 255\n",
    "imgArray. shape"
   ]
  },
  {
   "cell_type": "code",
   "execution_count": 37,
   "metadata": {},
   "outputs": [
    {
     "data": {
      "text/plain": [
       "(784,)"
      ]
     },
     "execution_count": 37,
     "metadata": {},
     "output_type": "execute_result"
    }
   ],
   "source": [
    "# image 를 1차원 배열로 변환\n",
    "imgArray2 = imgArray.reshape(-1)\n",
    "imgArray2.shape"
   ]
  },
  {
   "cell_type": "code",
   "execution_count": 38,
   "metadata": {},
   "outputs": [],
   "source": [
    "imgArray3 = imgArray2.tolist() #numpy이 배열이 python로 변환된다."
   ]
  },
  {
   "cell_type": "code",
   "execution_count": 39,
   "metadata": {},
   "outputs": [],
   "source": [
    "dfArray = pd.DataFrame(imgArray3)\n",
    "dfArray = dfArray.T"
   ]
  },
  {
   "cell_type": "code",
   "execution_count": 40,
   "metadata": {},
   "outputs": [
    {
     "data": {
      "text/html": [
       "<div>\n",
       "<style scoped>\n",
       "    .dataframe tbody tr th:only-of-type {\n",
       "        vertical-align: middle;\n",
       "    }\n",
       "\n",
       "    .dataframe tbody tr th {\n",
       "        vertical-align: top;\n",
       "    }\n",
       "\n",
       "    .dataframe thead th {\n",
       "        text-align: right;\n",
       "    }\n",
       "</style>\n",
       "<table border=\"1\" class=\"dataframe\">\n",
       "  <thead>\n",
       "    <tr style=\"text-align: right;\">\n",
       "      <th></th>\n",
       "      <th>0</th>\n",
       "      <th>1</th>\n",
       "      <th>2</th>\n",
       "      <th>3</th>\n",
       "      <th>4</th>\n",
       "      <th>5</th>\n",
       "      <th>6</th>\n",
       "      <th>7</th>\n",
       "      <th>8</th>\n",
       "      <th>9</th>\n",
       "      <th>...</th>\n",
       "      <th>774</th>\n",
       "      <th>775</th>\n",
       "      <th>776</th>\n",
       "      <th>777</th>\n",
       "      <th>778</th>\n",
       "      <th>779</th>\n",
       "      <th>780</th>\n",
       "      <th>781</th>\n",
       "      <th>782</th>\n",
       "      <th>783</th>\n",
       "    </tr>\n",
       "  </thead>\n",
       "  <tbody>\n",
       "    <tr>\n",
       "      <th>0</th>\n",
       "      <td>0.0</td>\n",
       "      <td>0.0</td>\n",
       "      <td>0.0</td>\n",
       "      <td>0.0</td>\n",
       "      <td>0.0</td>\n",
       "      <td>0.0</td>\n",
       "      <td>0.0</td>\n",
       "      <td>0.0</td>\n",
       "      <td>0.011765</td>\n",
       "      <td>0.0</td>\n",
       "      <td>...</td>\n",
       "      <td>0.0</td>\n",
       "      <td>0.0</td>\n",
       "      <td>0.0</td>\n",
       "      <td>0.0</td>\n",
       "      <td>0.0</td>\n",
       "      <td>0.0</td>\n",
       "      <td>0.0</td>\n",
       "      <td>0.0</td>\n",
       "      <td>0.0</td>\n",
       "      <td>0.0</td>\n",
       "    </tr>\n",
       "  </tbody>\n",
       "</table>\n",
       "<p>1 rows × 784 columns</p>\n",
       "</div>"
      ],
      "text/plain": [
       "   0    1    2    3    4    5    6    7         8    9    ...  774  775  776  \\\n",
       "0  0.0  0.0  0.0  0.0  0.0  0.0  0.0  0.0  0.011765  0.0  ...  0.0  0.0  0.0   \n",
       "\n",
       "   777  778  779  780  781  782  783  \n",
       "0  0.0  0.0  0.0  0.0  0.0  0.0  0.0  \n",
       "\n",
       "[1 rows x 784 columns]"
      ]
     },
     "execution_count": 40,
     "metadata": {},
     "output_type": "execute_result"
    }
   ],
   "source": [
    "dfArray"
   ]
  },
  {
   "cell_type": "code",
   "execution_count": 41,
   "metadata": {},
   "outputs": [
    {
     "name": "stdout",
     "output_type": "stream",
     "text": [
      "1/1 [==============================] - 0s 27ms/step\n",
      "예측값 : [3]\n"
     ]
    }
   ],
   "source": [
    "print('예측값 :',np.argmax(model.predict(dfArray), axis =1))"
   ]
  },
  {
   "cell_type": "code",
   "execution_count": 43,
   "metadata": {},
   "outputs": [
    {
     "name": "stdout",
     "output_type": "stream",
     "text": [
      "1/1 [==============================] - 0s 20ms/step\n"
     ]
    },
    {
     "data": {
      "text/plain": [
       "array([[6.9596669e-16, 1.1911937e-10, 1.6331499e-12, 1.0000000e+00,\n",
       "        1.1092343e-19, 4.0825887e-10, 5.4076677e-20, 5.1878274e-18,\n",
       "        9.4788365e-15, 2.1578386e-09]], dtype=float32)"
      ]
     },
     "execution_count": 43,
     "metadata": {},
     "output_type": "execute_result"
    }
   ],
   "source": [
    "model.predict(dfArray)"
   ]
  },
  {
   "cell_type": "code",
   "execution_count": null,
   "metadata": {},
   "outputs": [],
   "source": []
  },
  {
   "cell_type": "code",
   "execution_count": null,
   "metadata": {},
   "outputs": [],
   "source": []
  },
  {
   "cell_type": "code",
   "execution_count": null,
   "metadata": {},
   "outputs": [],
   "source": []
  }
 ],
 "metadata": {
  "kernelspec": {
   "display_name": "Python 3.9.7 ('base')",
   "language": "python",
   "name": "python3"
  },
  "language_info": {
   "codemirror_mode": {
    "name": "ipython",
    "version": 3
   },
   "file_extension": ".py",
   "mimetype": "text/x-python",
   "name": "python",
   "nbconvert_exporter": "python",
   "pygments_lexer": "ipython3",
   "version": "3.9.7"
  },
  "orig_nbformat": 4,
  "vscode": {
   "interpreter": {
    "hash": "c34e8390e776d2ee205b71ed5a6130fee3cef8da5e87e926ce18e14f4a070d72"
   }
  }
 },
 "nbformat": 4,
 "nbformat_minor": 2
}
