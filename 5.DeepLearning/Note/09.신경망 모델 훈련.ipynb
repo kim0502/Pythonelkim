{
 "cells": [
  {
   "cell_type": "code",
   "execution_count": 4,
   "metadata": {},
   "outputs": [],
   "source": [
    "import warnings\n",
    "warnings.filterwarnings('ignore')\n",
    "\n",
    "import os\n",
    "os.environ[\"TF_CPP_MIN_LOG_LEVEI\"]='3'"
   ]
  },
  {
   "cell_type": "code",
   "execution_count": 5,
   "metadata": {},
   "outputs": [],
   "source": [
    "from sklearn.model_selection import train_test_split\n",
    "from tensorflow import keras\n",
    "\n",
    "(train_input, train_target), (test_input, test_target)= keras.datasets.fashion_mnist.load_data()\n",
    "\n",
    "train_scaled = train_input / 255.0\n",
    "\n",
    "train_scaled, val_scaled, train_target, val_target = train_test_split(\n",
    "    train_scaled, train_target, test_size = 0.2, random_state=42\n",
    ")"
   ]
  },
  {
   "cell_type": "code",
   "execution_count": 6,
   "metadata": {},
   "outputs": [],
   "source": [
    "# Model 함수 구현\n",
    "def model_fn(a_layer=None):\n",
    "    model = keras.Sequential()\n",
    "    model.add(keras.layers.Flatten(input_shape=(28,28)))\n",
    "    model.add(keras.layers.Dense(100, activation='relu'))\n",
    "    if a_layer:\n",
    "        model.add(a_layer)\n",
    "    model.add(keras.layers.Dense(10,activation='softmax'))\n",
    "    return model"
   ]
  },
  {
   "cell_type": "code",
   "execution_count": 7,
   "metadata": {},
   "outputs": [
    {
     "name": "stdout",
     "output_type": "stream",
     "text": [
      "Model: \"sequential\"\n",
      "_________________________________________________________________\n",
      " Layer (type)                Output Shape              Param #   \n",
      "=================================================================\n",
      " flatten (Flatten)           (None, 784)               0         \n",
      "                                                                 \n",
      " dense (Dense)               (None, 100)               78500     \n",
      "                                                                 \n",
      " dense_1 (Dense)             (None, 10)                1010      \n",
      "                                                                 \n",
      "=================================================================\n",
      "Total params: 79,510\n",
      "Trainable params: 79,510\n",
      "Non-trainable params: 0\n",
      "_________________________________________________________________\n"
     ]
    },
    {
     "name": "stderr",
     "output_type": "stream",
     "text": [
      "2022-07-20 15:41:03.932321: I tensorflow/core/platform/cpu_feature_guard.cc:193] This TensorFlow binary is optimized with oneAPI Deep Neural Network Library (oneDNN) to use the following CPU instructions in performance-critical operations:  AVX2 FMA\n",
      "To enable them in other operations, rebuild TensorFlow with the appropriate compiler flags.\n"
     ]
    }
   ],
   "source": [
    "model = model_fn()\n",
    "model.summary()"
   ]
  },
  {
   "cell_type": "code",
   "execution_count": 8,
   "metadata": {},
   "outputs": [
    {
     "name": "stdout",
     "output_type": "stream",
     "text": [
      "Epoch 1/5\n",
      "1500/1500 [==============================] - 4s 2ms/step - loss: 0.5296 - accuracy: 0.8135\n",
      "Epoch 2/5\n",
      "1500/1500 [==============================] - 3s 2ms/step - loss: 0.3940 - accuracy: 0.8568\n",
      "Epoch 3/5\n",
      "1500/1500 [==============================] - 3s 2ms/step - loss: 0.3578 - accuracy: 0.8712\n",
      "Epoch 4/5\n",
      "1500/1500 [==============================] - 3s 2ms/step - loss: 0.3371 - accuracy: 0.8789\n",
      "Epoch 5/5\n",
      "1500/1500 [==============================] - 3s 2ms/step - loss: 0.3203 - accuracy: 0.8854\n"
     ]
    }
   ],
   "source": [
    "model.compile(loss='sparse_categorical_crossentropy', metrics='accuracy')\n",
    "history = model.fit(train_scaled, train_target, epochs=5)"
   ]
  },
  {
   "cell_type": "code",
   "execution_count": 9,
   "metadata": {},
   "outputs": [
    {
     "data": {
      "text/plain": [
       "dict_keys(['loss', 'accuracy'])"
      ]
     },
     "execution_count": 9,
     "metadata": {},
     "output_type": "execute_result"
    }
   ],
   "source": [
    "history.history.keys()"
   ]
  },
  {
   "cell_type": "markdown",
   "metadata": {},
   "source": [
    "---\n",
    "## 손실곡선"
   ]
  },
  {
   "cell_type": "code",
   "execution_count": 10,
   "metadata": {},
   "outputs": [
    {
     "data": {
      "image/png": "[encoded data removed]",
      "text/plain": [
       "<Figure size 432x288 with 1 Axes>"
      ]
     },
     "metadata": {
      "needs_background": "light"
     },
     "output_type": "display_data"
    }
   ],
   "source": [
    "import matplotlib.pyplot as plt\n",
    "plt.plot(history.history['loss'])\n",
    "plt.xlabel('epoch')\n",
    "plt.ylabel('loss')\n",
    "plt.show()"
   ]
  },
  {
   "cell_type": "code",
   "execution_count": 11,
   "metadata": {},
   "outputs": [
    {
     "data": {
      "image/png": "[encoded data removed]",
      "text/plain": [
       "<Figure size 432x288 with 1 Axes>"
      ]
     },
     "metadata": {
      "needs_background": "light"
     },
     "output_type": "display_data"
    }
   ],
   "source": [
    "# 정확도 보기\n",
    "import matplotlib.pyplot as plt\n",
    "plt.plot(history.history['accuracy'])\n",
    "plt.xlabel('epoch')\n",
    "plt.ylabel('loss')\n",
    "plt.show()"
   ]
  },
  {
   "cell_type": "markdown",
   "metadata": {},
   "source": [
    "---\n",
    "## 반복훈련 증가"
   ]
  },
  {
   "cell_type": "code",
   "execution_count": 13,
   "metadata": {},
   "outputs": [
    {
     "name": "stdout",
     "output_type": "stream",
     "text": [
      "Epoch 1/20\n",
      "1500/1500 [==============================] - 4s 2ms/step - loss: 0.5360 - accuracy: 0.8125\n",
      "Epoch 2/20\n",
      "1500/1500 [==============================] - 3s 2ms/step - loss: 0.3952 - accuracy: 0.8576\n",
      "Epoch 3/20\n",
      "1500/1500 [==============================] - 3s 2ms/step - loss: 0.3600 - accuracy: 0.8724\n",
      "Epoch 4/20\n",
      "1500/1500 [==============================] - 3s 2ms/step - loss: 0.3381 - accuracy: 0.8791\n",
      "Epoch 5/20\n",
      "1500/1500 [==============================] - 3s 2ms/step - loss: 0.3221 - accuracy: 0.8853\n",
      "Epoch 6/20\n",
      "1500/1500 [==============================] - 3s 2ms/step - loss: 0.3102 - accuracy: 0.8903\n",
      "Epoch 7/20\n",
      "1500/1500 [==============================] - 3s 2ms/step - loss: 0.3009 - accuracy: 0.8938\n",
      "Epoch 8/20\n",
      "1500/1500 [==============================] - 3s 2ms/step - loss: 0.2917 - accuracy: 0.8977\n",
      "Epoch 9/20\n",
      "1500/1500 [==============================] - 3s 2ms/step - loss: 0.2839 - accuracy: 0.9005\n",
      "Epoch 10/20\n",
      "1500/1500 [==============================] - 3s 2ms/step - loss: 0.2767 - accuracy: 0.9032\n",
      "Epoch 11/20\n",
      "1500/1500 [==============================] - 3s 2ms/step - loss: 0.2705 - accuracy: 0.9053\n",
      "Epoch 12/20\n",
      "1500/1500 [==============================] - 3s 2ms/step - loss: 0.2654 - accuracy: 0.9077\n",
      "Epoch 13/20\n",
      "1500/1500 [==============================] - 3s 2ms/step - loss: 0.2608 - accuracy: 0.9093\n",
      "Epoch 14/20\n",
      "1500/1500 [==============================] - 3s 2ms/step - loss: 0.2544 - accuracy: 0.9116\n",
      "Epoch 15/20\n",
      "1500/1500 [==============================] - 3s 2ms/step - loss: 0.2515 - accuracy: 0.9135\n",
      "Epoch 16/20\n",
      "1500/1500 [==============================] - 3s 2ms/step - loss: 0.2474 - accuracy: 0.9145\n",
      "Epoch 17/20\n",
      "1500/1500 [==============================] - 3s 2ms/step - loss: 0.2418 - accuracy: 0.9185\n",
      "Epoch 18/20\n",
      "1500/1500 [==============================] - 3s 2ms/step - loss: 0.2378 - accuracy: 0.9194\n",
      "Epoch 19/20\n",
      "1500/1500 [==============================] - 3s 2ms/step - loss: 0.2374 - accuracy: 0.9201\n",
      "Epoch 20/20\n",
      "1500/1500 [==============================] - 3s 2ms/step - loss: 0.2311 - accuracy: 0.9207\n"
     ]
    }
   ],
   "source": [
    "model = model_fn()\n",
    "model.compile(loss='sparse_categorical_crossentropy', metrics='accuracy')\n",
    "history = model.fit(train_scaled, train_target, epochs=20)"
   ]
  },
  {
   "cell_type": "code",
   "execution_count": 14,
   "metadata": {},
   "outputs": [
    {
     "data": {
      "image/png": "[encoded data removed]",
      "text/plain": [
       "<Figure size 432x288 with 1 Axes>"
      ]
     },
     "metadata": {
      "needs_background": "light"
     },
     "output_type": "display_data"
    }
   ],
   "source": [
    "import matplotlib.pyplot as plt\n",
    "plt.plot(history.history['loss'])\n",
    "plt.xlabel('epoch')\n",
    "plt.ylabel('loss')\n",
    "plt.show()"
   ]
  },
  {
   "cell_type": "code",
   "execution_count": 15,
   "metadata": {},
   "outputs": [
    {
     "data": {
      "image/png": "[encoded data removed]",
      "text/plain": [
       "<Figure size 432x288 with 1 Axes>"
      ]
     },
     "metadata": {
      "needs_background": "light"
     },
     "output_type": "display_data"
    }
   ],
   "source": [
    "# 정확도 보기\n",
    "import matplotlib.pyplot as plt\n",
    "plt.plot(history.history['accuracy'])\n",
    "plt.xlabel('epoch')\n",
    "plt.ylabel('loss')\n",
    "plt.show()"
   ]
  },
  {
   "cell_type": "markdown",
   "metadata": {},
   "source": [
    "---\n",
    "## 검증 손실\n",
    ": 검증 세트에 대한 정확도를 파악하기 위해 validation data를 사용한다."
   ]
  },
  {
   "cell_type": "code",
   "execution_count": 16,
   "metadata": {},
   "outputs": [
    {
     "name": "stdout",
     "output_type": "stream",
     "text": [
      "Epoch 1/20\n",
      "1500/1500 [==============================] - 4s 3ms/step - loss: 0.5316 - accuracy: 0.8135 - val_loss: 0.4065 - val_accuracy: 0.8527\n",
      "Epoch 2/20\n",
      "1500/1500 [==============================] - 4s 2ms/step - loss: 0.3897 - accuracy: 0.8597 - val_loss: 0.4267 - val_accuracy: 0.8487\n",
      "Epoch 3/20\n",
      "1500/1500 [==============================] - 4s 2ms/step - loss: 0.3526 - accuracy: 0.8724 - val_loss: 0.3725 - val_accuracy: 0.8660\n",
      "Epoch 4/20\n",
      "1500/1500 [==============================] - 4s 2ms/step - loss: 0.3319 - accuracy: 0.8805 - val_loss: 0.3704 - val_accuracy: 0.8726\n",
      "Epoch 5/20\n",
      "1500/1500 [==============================] - 4s 2ms/step - loss: 0.3189 - accuracy: 0.8871 - val_loss: 0.3640 - val_accuracy: 0.8775\n",
      "Epoch 6/20\n",
      "1500/1500 [==============================] - 4s 2ms/step - loss: 0.3065 - accuracy: 0.8911 - val_loss: 0.3667 - val_accuracy: 0.8773\n",
      "Epoch 7/20\n",
      "1500/1500 [==============================] - 4s 2ms/step - loss: 0.2972 - accuracy: 0.8944 - val_loss: 0.3561 - val_accuracy: 0.8863\n",
      "Epoch 8/20\n",
      "1500/1500 [==============================] - 4s 2ms/step - loss: 0.2892 - accuracy: 0.8981 - val_loss: 0.3780 - val_accuracy: 0.8773\n",
      "Epoch 9/20\n",
      "1500/1500 [==============================] - 4s 2ms/step - loss: 0.2841 - accuracy: 0.9010 - val_loss: 0.3653 - val_accuracy: 0.8822\n",
      "Epoch 10/20\n",
      "1500/1500 [==============================] - 4s 2ms/step - loss: 0.2758 - accuracy: 0.9043 - val_loss: 0.3729 - val_accuracy: 0.8828\n",
      "Epoch 11/20\n",
      "1500/1500 [==============================] - 4s 2ms/step - loss: 0.2708 - accuracy: 0.9077 - val_loss: 0.4035 - val_accuracy: 0.8807\n",
      "Epoch 12/20\n",
      "1500/1500 [==============================] - 4s 2ms/step - loss: 0.2650 - accuracy: 0.9076 - val_loss: 0.4018 - val_accuracy: 0.8832\n",
      "Epoch 13/20\n",
      "1500/1500 [==============================] - 4s 2ms/step - loss: 0.2604 - accuracy: 0.9110 - val_loss: 0.4300 - val_accuracy: 0.8778\n",
      "Epoch 14/20\n",
      "1500/1500 [==============================] - 4s 2ms/step - loss: 0.2556 - accuracy: 0.9124 - val_loss: 0.4272 - val_accuracy: 0.8773\n",
      "Epoch 15/20\n",
      "1500/1500 [==============================] - 4s 3ms/step - loss: 0.2506 - accuracy: 0.9140 - val_loss: 0.4241 - val_accuracy: 0.8847\n",
      "Epoch 16/20\n",
      "1500/1500 [==============================] - 4s 2ms/step - loss: 0.2464 - accuracy: 0.9167 - val_loss: 0.4530 - val_accuracy: 0.8759\n",
      "Epoch 17/20\n",
      "1500/1500 [==============================] - 4s 2ms/step - loss: 0.2399 - accuracy: 0.9180 - val_loss: 0.4487 - val_accuracy: 0.8727\n",
      "Epoch 18/20\n",
      "1500/1500 [==============================] - 4s 2ms/step - loss: 0.2389 - accuracy: 0.9195 - val_loss: 0.4889 - val_accuracy: 0.8759\n",
      "Epoch 19/20\n",
      "1500/1500 [==============================] - 4s 2ms/step - loss: 0.2349 - accuracy: 0.9220 - val_loss: 0.4418 - val_accuracy: 0.8817\n",
      "Epoch 20/20\n",
      "1500/1500 [==============================] - 4s 2ms/step - loss: 0.2292 - accuracy: 0.9224 - val_loss: 0.4728 - val_accuracy: 0.8787\n"
     ]
    }
   ],
   "source": [
    "model = model_fn()\n",
    "\n",
    "model.compile(loss='sparse_categorical_crossentropy', metrics='accuracy')\n",
    "history = model.fit(train_scaled, train_target, epochs=20,\n",
    "                    validation_data = (val_scaled, val_target)\n",
    ")"
   ]
  },
  {
   "cell_type": "code",
   "execution_count": 17,
   "metadata": {},
   "outputs": [
    {
     "data": {
      "text/plain": [
       "dict_keys(['loss', 'accuracy', 'val_loss', 'val_accuracy'])"
      ]
     },
     "execution_count": 17,
     "metadata": {},
     "output_type": "execute_result"
    }
   ],
   "source": [
    "history.history.keys()"
   ]
  },
  {
   "cell_type": "code",
   "execution_count": 19,
   "metadata": {},
   "outputs": [
    {
     "data": {
      "image/png": "[encoded data removed]",
      "text/plain": [
       "<Figure size 432x288 with 1 Axes>"
      ]
     },
     "metadata": {
      "needs_background": "light"
     },
     "output_type": "display_data"
    }
   ],
   "source": [
    "plt.plot(history.history['loss'])\n",
    "plt.plot(history.history['val_loss'])\n",
    "plt.xlabel('epoch')\n",
    "plt.ylabel('loss')\n",
    "plt.legend(['train','val'])\n",
    "plt.show()"
   ]
  },
  {
   "cell_type": "markdown",
   "metadata": {},
   "source": [
    "> 훈련세트는 epochs가 증가함에 따라 손실이 떨어지고있으나     \n",
    "> 검증세트는 epochs의 증가에 따라 초반에는 손실이 떨어지나 진행하면 할수록 손실율이 증가한다.   \n",
    "> 이 모델은 훈련세트에는 정확도가 높아 좋지만, 검증세트에는 적합하지 않는 과대적합 모델이다.   "
   ]
  },
  {
   "cell_type": "markdown",
   "metadata": {},
   "source": [
    "---\n",
    "## Optimizer(adam)"
   ]
  },
  {
   "cell_type": "code",
   "execution_count": 20,
   "metadata": {},
   "outputs": [
    {
     "name": "stdout",
     "output_type": "stream",
     "text": [
      "Epoch 1/20\n",
      "1500/1500 [==============================] - 4s 3ms/step - loss: 0.5215 - accuracy: 0.8169 - val_loss: 0.4129 - val_accuracy: 0.8527\n",
      "Epoch 2/20\n",
      "1500/1500 [==============================] - 3s 2ms/step - loss: 0.3893 - accuracy: 0.8604 - val_loss: 0.3684 - val_accuracy: 0.8677\n",
      "Epoch 3/20\n",
      "1500/1500 [==============================] - 3s 2ms/step - loss: 0.3506 - accuracy: 0.8733 - val_loss: 0.3505 - val_accuracy: 0.8723\n",
      "Epoch 4/20\n",
      "1500/1500 [==============================] - 3s 2ms/step - loss: 0.3218 - accuracy: 0.8829 - val_loss: 0.3613 - val_accuracy: 0.8714\n",
      "Epoch 5/20\n",
      "1500/1500 [==============================] - 3s 2ms/step - loss: 0.3033 - accuracy: 0.8892 - val_loss: 0.3353 - val_accuracy: 0.8788\n",
      "Epoch 6/20\n",
      "1500/1500 [==============================] - 3s 2ms/step - loss: 0.2869 - accuracy: 0.8944 - val_loss: 0.3336 - val_accuracy: 0.8821\n",
      "Epoch 7/20\n",
      "1500/1500 [==============================] - 3s 2ms/step - loss: 0.2740 - accuracy: 0.8985 - val_loss: 0.3348 - val_accuracy: 0.8784\n",
      "Epoch 8/20\n",
      "1500/1500 [==============================] - 3s 2ms/step - loss: 0.2633 - accuracy: 0.9025 - val_loss: 0.3138 - val_accuracy: 0.8891\n",
      "Epoch 9/20\n",
      "1500/1500 [==============================] - 3s 2ms/step - loss: 0.2531 - accuracy: 0.9060 - val_loss: 0.3349 - val_accuracy: 0.8820\n",
      "Epoch 10/20\n",
      "1500/1500 [==============================] - 3s 2ms/step - loss: 0.2440 - accuracy: 0.9087 - val_loss: 0.3192 - val_accuracy: 0.8878\n",
      "Epoch 11/20\n",
      "1500/1500 [==============================] - 3s 2ms/step - loss: 0.2372 - accuracy: 0.9114 - val_loss: 0.3358 - val_accuracy: 0.8827\n",
      "Epoch 12/20\n",
      "1500/1500 [==============================] - 3s 2ms/step - loss: 0.2282 - accuracy: 0.9140 - val_loss: 0.3179 - val_accuracy: 0.8888\n",
      "Epoch 13/20\n",
      "1500/1500 [==============================] - 3s 2ms/step - loss: 0.2226 - accuracy: 0.9168 - val_loss: 0.3461 - val_accuracy: 0.8807\n",
      "Epoch 14/20\n",
      "1500/1500 [==============================] - 3s 2ms/step - loss: 0.2159 - accuracy: 0.9187 - val_loss: 0.3463 - val_accuracy: 0.8842\n",
      "Epoch 15/20\n",
      "1500/1500 [==============================] - 3s 2ms/step - loss: 0.2098 - accuracy: 0.9210 - val_loss: 0.3417 - val_accuracy: 0.8867\n",
      "Epoch 16/20\n",
      "1500/1500 [==============================] - 3s 2ms/step - loss: 0.2024 - accuracy: 0.9238 - val_loss: 0.3252 - val_accuracy: 0.8898\n",
      "Epoch 17/20\n",
      "1500/1500 [==============================] - 3s 2ms/step - loss: 0.1985 - accuracy: 0.9256 - val_loss: 0.3254 - val_accuracy: 0.8919\n",
      "Epoch 18/20\n",
      "1500/1500 [==============================] - 3s 2ms/step - loss: 0.1925 - accuracy: 0.9281 - val_loss: 0.3495 - val_accuracy: 0.8845\n",
      "Epoch 19/20\n",
      "1500/1500 [==============================] - 3s 2ms/step - loss: 0.1874 - accuracy: 0.9299 - val_loss: 0.3380 - val_accuracy: 0.8906\n",
      "Epoch 20/20\n",
      "1500/1500 [==============================] - 3s 2ms/step - loss: 0.1837 - accuracy: 0.9321 - val_loss: 0.3363 - val_accuracy: 0.8913\n"
     ]
    }
   ],
   "source": [
    "model = model_fn()\n",
    "model.compile(optimizer='adam',loss='sparse_categorical_crossentropy', metrics='accuracy')\n",
    "history = model.fit(train_scaled, train_target, epochs=20,\n",
    "                    validation_data = (val_scaled, val_target)\n",
    ")"
   ]
  },
  {
   "cell_type": "code",
   "execution_count": 22,
   "metadata": {},
   "outputs": [
    {
     "data": {
      "image/png": "[encoded data removed]",
      "text/plain": [
       "<Figure size 432x288 with 1 Axes>"
      ]
     },
     "metadata": {
      "needs_background": "light"
     },
     "output_type": "display_data"
    }
   ],
   "source": [
    "plt.plot(history.history['loss'])\n",
    "plt.plot(history.history['val_loss'])\n",
    "plt.xlabel('epoch')\n",
    "plt.ylabel('loss')\n",
    "plt.legend(['train','val'])\n",
    "plt.show()"
   ]
  },
  {
   "cell_type": "markdown",
   "metadata": {},
   "source": [
    "> 훈련세트는 epochs가 증가함에 따라 손실이 떨어지고있으나     \n",
    "> 검증세트는 epochs의 증가에 따라 초반에는 손실이 떨어지나 진행하면 할수록 손실율이 증가한다.   \n",
    "> 이 모델은 훈련세트에는 정확도가 높아 좋지만, 검증세트에는 적합하지 않는 과대적합 모델이다.   \n",
    "> Optimizer (최적화 알고리즘)을 사용한 것이 좀 더 나은 모델이나 검증손실에 대한 부분(과대적합)은 아직해결이 안되었음"
   ]
  },
  {
   "cell_type": "markdown",
   "metadata": {},
   "source": [
    "---\n",
    "## Dropout\n",
    "- 규제\n",
    "- 신경망 모델에만 있음\n",
    "- 훈련시에만 각 sample을 처리할때 은닉층의 임의의 node를 계산해 포함시키지 않는다."
   ]
  },
  {
   "cell_type": "code",
   "execution_count": 23,
   "metadata": {},
   "outputs": [
    {
     "name": "stdout",
     "output_type": "stream",
     "text": [
      "Model: \"sequential_5\"\n",
      "_________________________________________________________________\n",
      " Layer (type)                Output Shape              Param #   \n",
      "=================================================================\n",
      " flatten_5 (Flatten)         (None, 784)               0         \n",
      "                                                                 \n",
      " dense_10 (Dense)            (None, 100)               78500     \n",
      "                                                                 \n",
      " dropout (Dropout)           (None, 100)               0         \n",
      "                                                                 \n",
      " dense_11 (Dense)            (None, 10)                1010      \n",
      "                                                                 \n",
      "=================================================================\n",
      "Total params: 79,510\n",
      "Trainable params: 79,510\n",
      "Non-trainable params: 0\n",
      "_________________________________________________________________\n"
     ]
    }
   ],
   "source": [
    "# model에 dropout을 추가\n",
    "\n",
    "model = model_fn(keras.layers.Dropout(0.3)) # drop out 30%\n",
    "model.summary()"
   ]
  },
  {
   "cell_type": "code",
   "execution_count": 24,
   "metadata": {},
   "outputs": [
    {
     "name": "stdout",
     "output_type": "stream",
     "text": [
      "Epoch 1/20\n",
      "1500/1500 [==============================] - 4s 2ms/step - loss: 0.5942 - accuracy: 0.7926 - val_loss: 0.4267 - val_accuracy: 0.8453\n",
      "Epoch 2/20\n",
      "1500/1500 [==============================] - 3s 2ms/step - loss: 0.4425 - accuracy: 0.8414 - val_loss: 0.3812 - val_accuracy: 0.8639\n",
      "Epoch 3/20\n",
      "1500/1500 [==============================] - 3s 2ms/step - loss: 0.4068 - accuracy: 0.8512 - val_loss: 0.3728 - val_accuracy: 0.8607\n",
      "Epoch 4/20\n",
      "1500/1500 [==============================] - 3s 2ms/step - loss: 0.3853 - accuracy: 0.8579 - val_loss: 0.3574 - val_accuracy: 0.8726\n",
      "Epoch 5/20\n",
      "1500/1500 [==============================] - 3s 2ms/step - loss: 0.3692 - accuracy: 0.8643 - val_loss: 0.3404 - val_accuracy: 0.8763\n",
      "Epoch 6/20\n",
      "1500/1500 [==============================] - 4s 2ms/step - loss: 0.3544 - accuracy: 0.8685 - val_loss: 0.3532 - val_accuracy: 0.8690\n",
      "Epoch 7/20\n",
      "1500/1500 [==============================] - 3s 2ms/step - loss: 0.3472 - accuracy: 0.8718 - val_loss: 0.3416 - val_accuracy: 0.8751\n",
      "Epoch 8/20\n",
      "1500/1500 [==============================] - 3s 2ms/step - loss: 0.3356 - accuracy: 0.8768 - val_loss: 0.3256 - val_accuracy: 0.8811\n",
      "Epoch 9/20\n",
      "1500/1500 [==============================] - 3s 2ms/step - loss: 0.3277 - accuracy: 0.8791 - val_loss: 0.3288 - val_accuracy: 0.8787\n",
      "Epoch 10/20\n",
      "1500/1500 [==============================] - 3s 2ms/step - loss: 0.3208 - accuracy: 0.8808 - val_loss: 0.3287 - val_accuracy: 0.8815\n",
      "Epoch 11/20\n",
      "1500/1500 [==============================] - 3s 2ms/step - loss: 0.3119 - accuracy: 0.8824 - val_loss: 0.3206 - val_accuracy: 0.8834\n",
      "Epoch 12/20\n",
      "1500/1500 [==============================] - 3s 2ms/step - loss: 0.3084 - accuracy: 0.8847 - val_loss: 0.3265 - val_accuracy: 0.8832\n",
      "Epoch 13/20\n",
      "1500/1500 [==============================] - 4s 2ms/step - loss: 0.3035 - accuracy: 0.8867 - val_loss: 0.3408 - val_accuracy: 0.8767\n",
      "Epoch 14/20\n",
      "1500/1500 [==============================] - 4s 2ms/step - loss: 0.2994 - accuracy: 0.8890 - val_loss: 0.3339 - val_accuracy: 0.8809\n",
      "Epoch 15/20\n",
      "1500/1500 [==============================] - 3s 2ms/step - loss: 0.2930 - accuracy: 0.8909 - val_loss: 0.3303 - val_accuracy: 0.8854\n",
      "Epoch 16/20\n",
      "1500/1500 [==============================] - 3s 2ms/step - loss: 0.2894 - accuracy: 0.8913 - val_loss: 0.3169 - val_accuracy: 0.8889\n",
      "Epoch 17/20\n",
      "1500/1500 [==============================] - 3s 2ms/step - loss: 0.2871 - accuracy: 0.8926 - val_loss: 0.3176 - val_accuracy: 0.8877\n",
      "Epoch 18/20\n",
      "1500/1500 [==============================] - 3s 2ms/step - loss: 0.2830 - accuracy: 0.8941 - val_loss: 0.3276 - val_accuracy: 0.8838\n",
      "Epoch 19/20\n",
      "1500/1500 [==============================] - 3s 2ms/step - loss: 0.2758 - accuracy: 0.8957 - val_loss: 0.3244 - val_accuracy: 0.8876\n",
      "Epoch 20/20\n",
      "1500/1500 [==============================] - 3s 2ms/step - loss: 0.2741 - accuracy: 0.8966 - val_loss: 0.3226 - val_accuracy: 0.8876\n"
     ]
    }
   ],
   "source": [
    "model.compile(optimizer='adam',loss='sparse_categorical_crossentropy', metrics='accuracy')\n",
    "history = model.fit(train_scaled, train_target, epochs=20,\n",
    "                    validation_data = (val_scaled, val_target)\n",
    ")"
   ]
  },
  {
   "cell_type": "code",
   "execution_count": 25,
   "metadata": {},
   "outputs": [
    {
     "data": {
      "image/png": "[encoded data removed]",
      "text/plain": [
       "<Figure size 432x288 with 1 Axes>"
      ]
     },
     "metadata": {
      "needs_background": "light"
     },
     "output_type": "display_data"
    }
   ],
   "source": [
    "plt.plot(history.history['loss'])\n",
    "plt.plot(history.history['val_loss'])\n",
    "plt.xlabel('epoch')\n",
    "plt.ylabel('loss')\n",
    "plt.legend(['train','val'])\n",
    "plt.show()"
   ]
  },
  {
   "cell_type": "markdown",
   "metadata": {},
   "source": [
    "> epochs가 10일 경우가 train과 val의 차이가 적은 것 같다.   \n",
    "> 기본적으로 훈련세트의 손시이 검증세트보다 적게 나오는 epochs의 갯수를 선택한다.  "
   ]
  },
  {
   "cell_type": "markdown",
   "metadata": {},
   "source": [
    "---\n",
    "## 모델의 저장과 복원\n",
    "- hdf5 format으로 저장"
   ]
  },
  {
   "cell_type": "code",
   "execution_count": 26,
   "metadata": {},
   "outputs": [],
   "source": [
    "# model 저장\n",
    "model.save(\"../Data/model-whole.h5\")"
   ]
  },
  {
   "cell_type": "code",
   "execution_count": 27,
   "metadata": {},
   "outputs": [],
   "source": [
    "# 복원\n",
    "model = keras.models.load_model(\"../Data/model-whole.h5\")"
   ]
  },
  {
   "cell_type": "code",
   "execution_count": 28,
   "metadata": {},
   "outputs": [
    {
     "name": "stdout",
     "output_type": "stream",
     "text": [
      "375/375 [==============================] - 1s 1ms/step - loss: 0.3226 - accuracy: 0.8876\n"
     ]
    },
    {
     "data": {
      "text/plain": [
       "[0.32261621952056885, 0.887583315372467]"
      ]
     },
     "execution_count": 28,
     "metadata": {},
     "output_type": "execute_result"
    }
   ],
   "source": [
    "# 사용\n",
    "model.evaluate(val_scaled,val_target)"
   ]
  },
  {
   "cell_type": "markdown",
   "metadata": {},
   "source": [
    "---\n",
    "# Callbacks\n",
    "- 훈련수행시 손실값이 제일 작은 함수를 저장해 준다. <- 굉장히 편함"
   ]
  },
  {
   "cell_type": "code",
   "execution_count": 29,
   "metadata": {},
   "outputs": [
    {
     "name": "stdout",
     "output_type": "stream",
     "text": [
      "Epoch 1/20\n",
      "1500/1500 [==============================] - 4s 2ms/step - loss: 0.5880 - accuracy: 0.7924 - val_loss: 0.4305 - val_accuracy: 0.8440\n",
      "Epoch 2/20\n",
      "1500/1500 [==============================] - 3s 2ms/step - loss: 0.4383 - accuracy: 0.8419 - val_loss: 0.3837 - val_accuracy: 0.8594\n",
      "Epoch 3/20\n",
      "1500/1500 [==============================] - 3s 2ms/step - loss: 0.4038 - accuracy: 0.8539 - val_loss: 0.3733 - val_accuracy: 0.8631\n",
      "Epoch 4/20\n",
      "1500/1500 [==============================] - 3s 2ms/step - loss: 0.3822 - accuracy: 0.8608 - val_loss: 0.3466 - val_accuracy: 0.8741\n",
      "Epoch 5/20\n",
      "1500/1500 [==============================] - 4s 2ms/step - loss: 0.3670 - accuracy: 0.8656 - val_loss: 0.3525 - val_accuracy: 0.8706\n",
      "Epoch 6/20\n",
      "1500/1500 [==============================] - 4s 2ms/step - loss: 0.3517 - accuracy: 0.8715 - val_loss: 0.3392 - val_accuracy: 0.8769\n",
      "Epoch 7/20\n",
      "1500/1500 [==============================] - 3s 2ms/step - loss: 0.3414 - accuracy: 0.8750 - val_loss: 0.3463 - val_accuracy: 0.8747\n",
      "Epoch 8/20\n",
      "1500/1500 [==============================] - 3s 2ms/step - loss: 0.3325 - accuracy: 0.8765 - val_loss: 0.3332 - val_accuracy: 0.8793\n",
      "Epoch 9/20\n",
      "1500/1500 [==============================] - 3s 2ms/step - loss: 0.3273 - accuracy: 0.8795 - val_loss: 0.3259 - val_accuracy: 0.8823\n",
      "Epoch 10/20\n",
      "1500/1500 [==============================] - 3s 2ms/step - loss: 0.3199 - accuracy: 0.8817 - val_loss: 0.3260 - val_accuracy: 0.8817\n",
      "Epoch 11/20\n",
      "1500/1500 [==============================] - 3s 2ms/step - loss: 0.3124 - accuracy: 0.8841 - val_loss: 0.3190 - val_accuracy: 0.8848\n",
      "Epoch 12/20\n",
      "1500/1500 [==============================] - 3s 2ms/step - loss: 0.3096 - accuracy: 0.8856 - val_loss: 0.3410 - val_accuracy: 0.8770\n",
      "Epoch 13/20\n",
      "1500/1500 [==============================] - 3s 2ms/step - loss: 0.3019 - accuracy: 0.8874 - val_loss: 0.3279 - val_accuracy: 0.8836\n",
      "Epoch 14/20\n",
      "1500/1500 [==============================] - 3s 2ms/step - loss: 0.2997 - accuracy: 0.8883 - val_loss: 0.3315 - val_accuracy: 0.8800\n",
      "Epoch 15/20\n",
      "1500/1500 [==============================] - 3s 2ms/step - loss: 0.2958 - accuracy: 0.8901 - val_loss: 0.3234 - val_accuracy: 0.8847\n",
      "Epoch 16/20\n",
      "1500/1500 [==============================] - 3s 2ms/step - loss: 0.2911 - accuracy: 0.8902 - val_loss: 0.3373 - val_accuracy: 0.8820\n",
      "Epoch 17/20\n",
      "1500/1500 [==============================] - 3s 2ms/step - loss: 0.2864 - accuracy: 0.8924 - val_loss: 0.3311 - val_accuracy: 0.8813\n",
      "Epoch 18/20\n",
      "1500/1500 [==============================] - 3s 2ms/step - loss: 0.2819 - accuracy: 0.8945 - val_loss: 0.3306 - val_accuracy: 0.8833\n",
      "Epoch 19/20\n",
      "1500/1500 [==============================] - 3s 2ms/step - loss: 0.2748 - accuracy: 0.8962 - val_loss: 0.3203 - val_accuracy: 0.8870\n",
      "Epoch 20/20\n",
      "1500/1500 [==============================] - 3s 2ms/step - loss: 0.2765 - accuracy: 0.8950 - val_loss: 0.3174 - val_accuracy: 0.8861\n"
     ]
    },
    {
     "data": {
      "text/plain": [
       "<keras.callbacks.History at 0x7fdb37279af0>"
      ]
     },
     "execution_count": 29,
     "metadata": {},
     "output_type": "execute_result"
    }
   ],
   "source": [
    "model = model_fn(keras.layers.Dropout(0.3)) # drop out 30%\n",
    "model.compile(optimizer='adam',loss='sparse_categorical_crossentropy', metrics='accuracy')\n",
    "checkpoint_cb = keras.callbacks.ModelCheckpoint(\"../Data/model-whole.h5\") # 저장했다가 비교해야하니깐\n",
    "model.fit(train_scaled, train_target, epochs=20,\n",
    "                    validation_data = (val_scaled, val_target),\n",
    "                    callbacks = [checkpoint_cb]\n",
    "        )"
   ]
  },
  {
   "cell_type": "code",
   "execution_count": 30,
   "metadata": {},
   "outputs": [
    {
     "name": "stdout",
     "output_type": "stream",
     "text": [
      "375/375 [==============================] - 1s 2ms/step - loss: 0.3174 - accuracy: 0.8861\n"
     ]
    },
    {
     "data": {
      "text/plain": [
       "[0.3173748254776001, 0.8860833048820496]"
      ]
     },
     "execution_count": 30,
     "metadata": {},
     "output_type": "execute_result"
    }
   ],
   "source": [
    "model = keras.models.load_model(\"../Data/model-whole.h5\")\n",
    "model.evaluate(val_scaled, val_target)"
   ]
  },
  {
   "cell_type": "markdown",
   "metadata": {},
   "source": [
    "---\n",
    "# Early_Stopping(조기종료)\n",
    "- Callback처럼 끝까지 기다리는 것이 아니고 hyper parameter을 선정하여 한계값을 정해 실행한다."
   ]
  },
  {
   "cell_type": "code",
   "execution_count": 32,
   "metadata": {},
   "outputs": [
    {
     "name": "stdout",
     "output_type": "stream",
     "text": [
      "Epoch 1/20\n",
      "1500/1500 [==============================] - 4s 2ms/step - loss: 0.5839 - accuracy: 0.7949 - val_loss: 0.4232 - val_accuracy: 0.8479\n",
      "Epoch 2/20\n",
      "1500/1500 [==============================] - 3s 2ms/step - loss: 0.4388 - accuracy: 0.8418 - val_loss: 0.3824 - val_accuracy: 0.8621\n",
      "Epoch 3/20\n",
      "1500/1500 [==============================] - 4s 2ms/step - loss: 0.4028 - accuracy: 0.8531 - val_loss: 0.3878 - val_accuracy: 0.8591\n",
      "Epoch 4/20\n",
      "1500/1500 [==============================] - 3s 2ms/step - loss: 0.3791 - accuracy: 0.8629 - val_loss: 0.3531 - val_accuracy: 0.8734\n",
      "Epoch 5/20\n",
      "1500/1500 [==============================] - 3s 2ms/step - loss: 0.3663 - accuracy: 0.8663 - val_loss: 0.3404 - val_accuracy: 0.8773\n",
      "Epoch 6/20\n",
      "1500/1500 [==============================] - 3s 2ms/step - loss: 0.3557 - accuracy: 0.8703 - val_loss: 0.3655 - val_accuracy: 0.8668\n",
      "Epoch 7/20\n",
      "1500/1500 [==============================] - 3s 2ms/step - loss: 0.3436 - accuracy: 0.8754 - val_loss: 0.3354 - val_accuracy: 0.8753\n",
      "Epoch 8/20\n",
      "1500/1500 [==============================] - 3s 2ms/step - loss: 0.3338 - accuracy: 0.8750 - val_loss: 0.3312 - val_accuracy: 0.8778\n",
      "Epoch 9/20\n",
      "1500/1500 [==============================] - 3s 2ms/step - loss: 0.3258 - accuracy: 0.8778 - val_loss: 0.3336 - val_accuracy: 0.8812\n",
      "Epoch 10/20\n",
      "1500/1500 [==============================] - 3s 2ms/step - loss: 0.3186 - accuracy: 0.8822 - val_loss: 0.3283 - val_accuracy: 0.8823\n",
      "Epoch 11/20\n",
      "1500/1500 [==============================] - 3s 2ms/step - loss: 0.3135 - accuracy: 0.8831 - val_loss: 0.3363 - val_accuracy: 0.8802\n",
      "Epoch 12/20\n",
      "1500/1500 [==============================] - 3s 2ms/step - loss: 0.3089 - accuracy: 0.8829 - val_loss: 0.3276 - val_accuracy: 0.8819\n",
      "Epoch 13/20\n",
      "1500/1500 [==============================] - 3s 2ms/step - loss: 0.3007 - accuracy: 0.8862 - val_loss: 0.3248 - val_accuracy: 0.8798\n",
      "Epoch 14/20\n",
      "1500/1500 [==============================] - 3s 2ms/step - loss: 0.2983 - accuracy: 0.8893 - val_loss: 0.3182 - val_accuracy: 0.8835\n",
      "Epoch 15/20\n",
      "1500/1500 [==============================] - 3s 2ms/step - loss: 0.2934 - accuracy: 0.8894 - val_loss: 0.3264 - val_accuracy: 0.8840\n",
      "Epoch 16/20\n",
      "1500/1500 [==============================] - 3s 2ms/step - loss: 0.2913 - accuracy: 0.8906 - val_loss: 0.3127 - val_accuracy: 0.8864\n",
      "Epoch 17/20\n",
      "1500/1500 [==============================] - 3s 2ms/step - loss: 0.2855 - accuracy: 0.8914 - val_loss: 0.3276 - val_accuracy: 0.8878\n",
      "Epoch 18/20\n",
      "1500/1500 [==============================] - 3s 2ms/step - loss: 0.2813 - accuracy: 0.8946 - val_loss: 0.3253 - val_accuracy: 0.8865\n"
     ]
    }
   ],
   "source": [
    "model = model_fn(keras.layers.Dropout(0.3)) # drop out 30%\n",
    "model.compile(optimizer='adam',loss='sparse_categorical_crossentropy', metrics='accuracy')\n",
    "\n",
    "checkpoint_cb = keras.callbacks.ModelCheckpoint(\"../Data/model-whole.h5\") # 저장했다가 비교해야하니깐\n",
    "early_stopping_cb = keras.callbacks.EarlyStopping(patience=2, restore_best_weights=True) #patience=2 : 올라가는것을 2번까지 참는다 이상이면 멈출거야\n",
    "\n",
    "history = model.fit(train_scaled, train_target, epochs=20,\n",
    "                    validation_data = (val_scaled, val_target),\n",
    "                    callbacks = [checkpoint_cb, early_stopping_cb]\n",
    "                    )"
   ]
  },
  {
   "cell_type": "code",
   "execution_count": 33,
   "metadata": {},
   "outputs": [
    {
     "data": {
      "text/plain": [
       "17"
      ]
     },
     "execution_count": 33,
     "metadata": {},
     "output_type": "execute_result"
    }
   ],
   "source": [
    "# 몇번째 epochs에서 stop 되었는가 ?\n",
    "early_stopping_cb.stopped_epoch"
   ]
  },
  {
   "cell_type": "code",
   "execution_count": 34,
   "metadata": {},
   "outputs": [
    {
     "data": {
      "image/png": "[encoded data removed]",
      "text/plain": [
       "<Figure size 432x288 with 1 Axes>"
      ]
     },
     "metadata": {
      "needs_background": "light"
     },
     "output_type": "display_data"
    }
   ],
   "source": [
    "plt.plot(history.history['loss'])\n",
    "plt.plot(history.history['val_loss'])\n",
    "plt.xlabel('epoch')\n",
    "plt.ylabel('loss')\n",
    "plt.legend(['train','val'])\n",
    "plt.show()"
   ]
  },
  {
   "cell_type": "code",
   "execution_count": null,
   "metadata": {},
   "outputs": [],
   "source": []
  },
  {
   "cell_type": "code",
   "execution_count": null,
   "metadata": {},
   "outputs": [],
   "source": []
  },
  {
   "cell_type": "code",
   "execution_count": null,
   "metadata": {},
   "outputs": [],
   "source": []
  },
  {
   "cell_type": "code",
   "execution_count": null,
   "metadata": {},
   "outputs": [],
   "source": []
  },
  {
   "cell_type": "code",
   "execution_count": null,
   "metadata": {},
   "outputs": [],
   "source": []
  },
  {
   "cell_type": "code",
   "execution_count": null,
   "metadata": {},
   "outputs": [],
   "source": []
  },
  {
   "cell_type": "code",
   "execution_count": null,
   "metadata": {},
   "outputs": [],
   "source": []
  },
  {
   "cell_type": "code",
   "execution_count": null,
   "metadata": {},
   "outputs": [],
   "source": []
  },
  {
   "cell_type": "code",
   "execution_count": null,
   "metadata": {},
   "outputs": [],
   "source": []
  },
  {
   "cell_type": "code",
   "execution_count": null,
   "metadata": {},
   "outputs": [],
   "source": []
  },
  {
   "cell_type": "code",
   "execution_count": null,
   "metadata": {},
   "outputs": [],
   "source": []
  },
  {
   "cell_type": "code",
   "execution_count": null,
   "metadata": {},
   "outputs": [],
   "source": []
  }
 ],
 "metadata": {
  "kernelspec": {
   "display_name": "Python 3.9.7 ('base')",
   "language": "python",
   "name": "python3"
  },
  "language_info": {
   "codemirror_mode": {
    "name": "ipython",
    "version": 3
   },
   "file_extension": ".py",
   "mimetype": "text/x-python",
   "name": "python",
   "nbconvert_exporter": "python",
   "pygments_lexer": "ipython3",
   "version": "3.9.7"
  },
  "orig_nbformat": 4,
  "vscode": {
   "interpreter": {
    "hash": "c34e8390e776d2ee205b71ed5a6130fee3cef8da5e87e926ce18e14f4a070d72"
   }
  }
 },
 "nbformat": 4,
 "nbformat_minor": 2
}
