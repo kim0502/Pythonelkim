{
 "cells": [
  {
   "cell_type": "markdown",
   "metadata": {},
   "source": [
    "# 앙상블\n",
    "- 여러개의 분류모델을 조합해서 더 나은 성능을 내는 방법"
   ]
  },
  {
   "cell_type": "markdown",
   "metadata": {},
   "source": [
    "## RandomForest\n",
    ": 의사결정트리 bigging(단일 모델 조합)해서 예측을 실행하는 모델"
   ]
  },
  {
   "cell_type": "code",
   "execution_count": 23,
   "metadata": {},
   "outputs": [],
   "source": [
    "from sklearn import datasets\n",
    "\n",
    "import numpy as np\n",
    "np.random.seed(5)"
   ]
  },
  {
   "cell_type": "code",
   "execution_count": 24,
   "metadata": {},
   "outputs": [],
   "source": [
    "# 손글씨 데이터\n",
    "mnist = datasets.load_digits()\n",
    "features, label = mnist.data, mnist.target"
   ]
  },
  {
   "cell_type": "code",
   "execution_count": 25,
   "metadata": {},
   "outputs": [
    {
     "data": {
      "text/plain": [
       "array([0.79444444, 0.82222222, 0.84444444, 0.81111111, 0.76666667,\n",
       "       0.88888889, 0.91111111, 0.81564246, 0.82122905, 0.80446927])"
      ]
     },
     "execution_count": 25,
     "metadata": {},
     "output_type": "execute_result"
    }
   ],
   "source": [
    "# 의사결정나무를 이용한 교차 검증 10번 실시\n",
    "from sklearn import tree\n",
    "from sklearn.model_selection import cross_val_score\n",
    "cf =tree.DecisionTreeClassifier()\n",
    "\n",
    "\n",
    "cv_scores = cross_val_score(cf,features, label, cv =10)\n",
    "cv_scores"
   ]
  },
  {
   "cell_type": "code",
   "execution_count": 26,
   "metadata": {},
   "outputs": [
    {
     "name": "stdout",
     "output_type": "stream",
     "text": [
      "0.8235630043451273\n",
      "0.8224674115456239\n",
      "0.8235692116697703\n",
      "0.8341464928615766\n",
      "0.8185692116697704\n",
      "0.8241247672253259\n",
      "0.8180136561142148\n",
      "0.8235630043451272\n",
      "0.8258038485412786\n",
      "0.8296958410924891\n"
     ]
    }
   ],
   "source": [
    "for i in range(10):\n",
    "    cv_scores = cross_val_score(cf,features, label, cv =10, scoring='accuracy')\n",
    "    print(cv_scores.mean())"
   ]
  },
  {
   "cell_type": "code",
   "execution_count": 27,
   "metadata": {},
   "outputs": [
    {
     "data": {
      "text/plain": [
       "[0.9510180012414648,\n",
       " 0.9471291123525759,\n",
       " 0.9460242085661079,\n",
       " 0.9554810676598386,\n",
       " 0.9476939788950961,\n",
       " 0.9449006828057106,\n",
       " 0.952129112352576,\n",
       " 0.9499162011173183,\n",
       " 0.9454500310366232,\n",
       " 0.9449068901303537]"
      ]
     },
     "execution_count": 27,
     "metadata": {},
     "output_type": "execute_result"
    }
   ],
   "source": [
    "# RandomForest를 이용한 교차검증 10번 - 쌤 ver\n",
    "from sklearn.ensemble import RandomForestClassifier\n",
    "\n",
    "cv_scores=[]\n",
    "for i in range(10):\n",
    "    scores =cross_val_score(\n",
    "        RandomForestClassifier(),\n",
    "        features,\n",
    "        label,\n",
    "        cv =10,\n",
    "        scoring='accuracy'\n",
    "    )\n",
    "    cv_scores.append(scores.mean())\n",
    "cv_scores\n"
   ]
  },
  {
   "cell_type": "code",
   "execution_count": 28,
   "metadata": {},
   "outputs": [],
   "source": [
    "def cross_vaildation(classifier,features, label):\n",
    "    cv_scores=[]\n",
    "    for i in range(10):\n",
    "        scores =cross_val_score(\n",
    "            classifier,\n",
    "            features,\n",
    "            label,\n",
    "            cv =10,\n",
    "            scoring='accuracy'\n",
    "        )\n",
    "        cv_scores.append(scores.mean())\n",
    "\n",
    "    return cv_scores\n",
    " "
   ]
  },
  {
   "cell_type": "code",
   "execution_count": 38,
   "metadata": {},
   "outputs": [
    {
     "data": {
      "text/plain": [
       "[0.8308317815021725,\n",
       " 0.8258069522036002,\n",
       " 0.8257945375543141,\n",
       " 0.8163407821229051,\n",
       " 0.8363500931098697,\n",
       " 0.8313718187461203,\n",
       " 0.8263500931098695,\n",
       " 0.8341495965238982,\n",
       " 0.8297051520794538,\n",
       " 0.820782122905028]"
      ]
     },
     "execution_count": 38,
     "metadata": {},
     "output_type": "execute_result"
    }
   ],
   "source": [
    "# 의사결정 나무\n",
    "dt_cv_scores = cross_vaildation(tree.DecisionTreeClassifier() ,features ,label )\n",
    "dt_cv_scores"
   ]
  },
  {
   "cell_type": "code",
   "execution_count": 39,
   "metadata": {},
   "outputs": [
    {
     "data": {
      "text/plain": [
       "[0.9493575418994412,\n",
       " 0.9471291123525759,\n",
       " 0.9493606455617629,\n",
       " 0.9487988826815641,\n",
       " 0.9510180012414648,\n",
       " 0.9526939788950962,\n",
       " 0.94768156424581,\n",
       " 0.9515673494723773,\n",
       " 0.9510180012414648,\n",
       " 0.9471322160148976]"
      ]
     },
     "execution_count": 39,
     "metadata": {},
     "output_type": "execute_result"
    }
   ],
   "source": [
    "# RandomForest\n",
    "rf_cv_scores = cross_vaildation(RandomForestClassifier() ,features ,label )\n",
    "rf_cv_scores"
   ]
  },
  {
   "cell_type": "markdown",
   "metadata": {},
   "source": [
    "---\n",
    "### 랜덤포레스트와 의사결정나무의 정확도의 시각화"
   ]
  },
  {
   "cell_type": "code",
   "execution_count": 40,
   "metadata": {},
   "outputs": [
    {
     "data": {
      "image/png": "[encoded data removed]",
      "text/plain": [
       "<Figure size 432x288 with 1 Axes>"
      ]
     },
     "metadata": {
      "needs_background": "light"
     },
     "output_type": "display_data"
    }
   ],
   "source": [
    "import matplotlib.pyplot as plt\n",
    "import pandas as pd\n",
    "cv_list = {'random_forest': rf_cv_scores, 'decision_tree':dt_cv_scores}\n",
    "df = pd.DataFrame(cv_list)\n",
    "df.plot()\n",
    "plt.show()"
   ]
  },
  {
   "cell_type": "markdown",
   "metadata": {},
   "source": [
    "---\n",
    "# 보팅(voting) 앙상블\n",
    ": 단일 모델을 앙상블하여 더 나은 예측을 하는 모델 생성"
   ]
  },
  {
   "cell_type": "markdown",
   "metadata": {},
   "source": [
    "### 단일모델 정확도 측정\n"
   ]
  },
  {
   "cell_type": "code",
   "execution_count": 31,
   "metadata": {},
   "outputs": [],
   "source": [
    "from sklearn.model_selection import train_test_split\n",
    "X_train, X_test, y_train, y_test =train_test_split(features, label, test_size=0.2)"
   ]
  },
  {
   "cell_type": "code",
   "execution_count": 32,
   "metadata": {},
   "outputs": [
    {
     "name": "stdout",
     "output_type": "stream",
     "text": [
      "d-tree: 0.8527777777777777\n"
     ]
    }
   ],
   "source": [
    "# 의사결정 나무\n",
    "dtree = tree.DecisionTreeClassifier()\n",
    "dtree =dtree.fit(X_train,y_train)\n",
    "dtree_score = dtree.score(X_test, y_test)\n",
    "print('d-tree :', dtree_score)"
   ]
  },
  {
   "cell_type": "code",
   "execution_count": 34,
   "metadata": {},
   "outputs": [
    {
     "name": "stdout",
     "output_type": "stream",
     "text": [
      "Knn : 0.9888888888888889\n"
     ]
    }
   ],
   "source": [
    "# KNN\n",
    "from sklearn.neighbors import KNeighborsClassifier\n",
    "knn = KNeighborsClassifier().fit(X_train,y_train)\n",
    "knn_score = knn.score(X_test, y_test)\n",
    "print('Knn :', knn_score)"
   ]
  },
  {
   "cell_type": "code",
   "execution_count": 41,
   "metadata": {},
   "outputs": [
    {
     "name": "stdout",
     "output_type": "stream",
     "text": [
      "SVM : 0.9944444444444445\n"
     ]
    }
   ],
   "source": [
    "# SVM\n",
    "from sklearn.svm import SVC\n",
    "svm = SVC(probability=True).fit(X_train,y_train)\n",
    "#probability=True 확률값을 주냐/안주냐는 소프트 보팅에서 알려줘야하기때문에 적어야한다.\n",
    "svm_score = svm.score(X_test, y_test)\n",
    "print('SVM :', svm_score)"
   ]
  },
  {
   "cell_type": "markdown",
   "metadata": {},
   "source": [
    "### 하드 보팅\n",
    ": 각각의 분류기의 예측값들을 모아, 가장 많은 득표를 받은 예측값으로 최종 결론을 내는 방식 입니다."
   ]
  },
  {
   "cell_type": "code",
   "execution_count": 42,
   "metadata": {},
   "outputs": [
    {
     "data": {
      "text/plain": [
       "0.9916666666666667"
      ]
     },
     "execution_count": 42,
     "metadata": {},
     "output_type": "execute_result"
    }
   ],
   "source": [
    "from sklearn.ensemble import VotingClassifier\n",
    "voting_clf =VotingClassifier(\n",
    "    estimators=[('decision_tree', dtree),('knn', knn),('svm',svm)], # dtree는 위에서 만든거\n",
    "    weights=[1,1,1], # 실제로 이렇게 쓰면 안됨\n",
    "    voting ='hard'\n",
    ").fit(X_train, y_train)\n",
    "\n",
    "voting_clf.score(X_test, y_test)"
   ]
  },
  {
   "cell_type": "markdown",
   "metadata": {},
   "source": [
    "### 소프트 보팅\n",
    ": 각각의 분류모델을 활용하여 모든 분류값들의 확률들을 더해서 가장 높은 점수를 획득한 분류값으로 초종결론을 내는 방식입니다."
   ]
  },
  {
   "cell_type": "code",
   "execution_count": 43,
   "metadata": {},
   "outputs": [
    {
     "data": {
      "text/plain": [
       "0.9916666666666667"
      ]
     },
     "execution_count": 43,
     "metadata": {},
     "output_type": "execute_result"
    }
   ],
   "source": [
    "from sklearn.ensemble import VotingClassifier\n",
    "voting_clf =VotingClassifier(\n",
    "    estimators=[('decision_tree', dtree),('knn', knn),('svm',svm)], # dtree는 위에서 만든거\n",
    "    weights=[1,1,1], # 실제로 이렇게 쓰면 안됨\n",
    "    voting ='soft'\n",
    ").fit(X_train, y_train)\n",
    "\n",
    "voting_clf.score(X_test, y_test)"
   ]
  },
  {
   "cell_type": "code",
   "execution_count": null,
   "metadata": {},
   "outputs": [],
   "source": []
  },
  {
   "cell_type": "code",
   "execution_count": null,
   "metadata": {},
   "outputs": [],
   "source": []
  },
  {
   "cell_type": "code",
   "execution_count": null,
   "metadata": {},
   "outputs": [],
   "source": []
  },
  {
   "cell_type": "markdown",
   "metadata": {},
   "source": []
  }
 ],
 "metadata": {
  "kernelspec": {
   "display_name": "Python 3.9.7 ('base')",
   "language": "python",
   "name": "python3"
  },
  "language_info": {
   "codemirror_mode": {
    "name": "ipython",
    "version": 3
   },
   "file_extension": ".py",
   "mimetype": "text/x-python",
   "name": "python",
   "nbconvert_exporter": "python",
   "pygments_lexer": "ipython3",
   "version": "3.9.7"
  },
  "orig_nbformat": 4,
  "vscode": {
   "interpreter": {
    "hash": "c34e8390e776d2ee205b71ed5a6130fee3cef8da5e87e926ce18e14f4a070d72"
   }
  }
 },
 "nbformat": 4,
 "nbformat_minor": 2
}
