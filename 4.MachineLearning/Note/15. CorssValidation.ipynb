{
 "cells": [
  {
   "cell_type": "markdown",
   "metadata": {},
   "source": [
    "# Cross Validation(교차 검증)\n",
    "특정 데이터를 훈련 전용 데이터와 테스츠 전용 데이터로 분할한뒤 훈련데이터를 활용해 학습하고\n",
    "훈련데이터를 검증데이터로 나누어 반복적인 검증방법을 통해 최적의 값을 유출하고\n",
    "테스트 데이터로 테스트해서 학습의 타당성을 검증하는 방법입니다.\n",
    "\n",
    "![](../Data/q.png)\n",
    "- test는 빼놓고\n",
    "- train에서 valid와 train으로 나누고 여러방법의 예측력중에 가장 좋은값을 가지고 test를 한다.  \n",
    "-  ML에 사용 DL은 데이터가 많아서 사용하지 않는다."
   ]
  },
  {
   "cell_type": "code",
   "execution_count": 1,
   "metadata": {},
   "outputs": [],
   "source": [
    "import pandas as pd\n",
    "csv = pd.read_csv(\"../Data/iris.csv\")"
   ]
  },
  {
   "cell_type": "code",
   "execution_count": 4,
   "metadata": {},
   "outputs": [],
   "source": [
    "data =csv[['SepalLength','SepalWidth','PetalLength','PetalWidth']]\n",
    "label = csv['Name']"
   ]
  },
  {
   "cell_type": "code",
   "execution_count": 5,
   "metadata": {},
   "outputs": [],
   "source": [
    "from sklearn import svm, model_selection"
   ]
  },
  {
   "cell_type": "code",
   "execution_count": 7,
   "metadata": {},
   "outputs": [],
   "source": [
    "clf = svm.SVC()"
   ]
  },
  {
   "cell_type": "code",
   "execution_count": 9,
   "metadata": {},
   "outputs": [
    {
     "name": "stdout",
     "output_type": "stream",
     "text": [
      "각각의 정답률 : [0.96 1.   1.   0.92 1.   1.  ]\n"
     ]
    }
   ],
   "source": [
    "scores = model_selection.cross_val_score(clf, data, label, cv =6)  # fit,score둘다 해준다.\n",
    "# (모델이름, data,label,cv=돌릴 횟수(대부분 10단위미만으로함)\n",
    "print('각각의 정답률 :', scores)"
   ]
  },
  {
   "cell_type": "code",
   "execution_count": 10,
   "metadata": {},
   "outputs": [
    {
     "name": "stdout",
     "output_type": "stream",
     "text": [
      "평균 정답률 : 0.98\n"
     ]
    }
   ],
   "source": [
    "print('평균 정답률 :', scores.mean())"
   ]
  },
  {
   "cell_type": "code",
   "execution_count": null,
   "metadata": {},
   "outputs": [],
   "source": []
  },
  {
   "cell_type": "code",
   "execution_count": null,
   "metadata": {},
   "outputs": [],
   "source": []
  }
 ],
 "metadata": {
  "kernelspec": {
   "display_name": "Python 3.9.7 ('base')",
   "language": "python",
   "name": "python3"
  },
  "language_info": {
   "codemirror_mode": {
    "name": "ipython",
    "version": 3
   },
   "file_extension": ".py",
   "mimetype": "text/x-python",
   "name": "python",
   "nbconvert_exporter": "python",
   "pygments_lexer": "ipython3",
   "version": "3.9.7"
  },
  "orig_nbformat": 4,
  "vscode": {
   "interpreter": {
    "hash": "c34e8390e776d2ee205b71ed5a6130fee3cef8da5e87e926ce18e14f4a070d72"
   }
  }
 },
 "nbformat": 4,
 "nbformat_minor": 2
}
