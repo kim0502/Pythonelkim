{
 "cells": [
  {
   "cell_type": "markdown",
   "metadata": {},
   "source": [
    "# SVM(Supper Vector Machine)"
   ]
  },
  {
   "cell_type": "markdown",
   "metadata": {},
   "source": [
    "### SVM을 활용한 비만도(BMI) 측정 예측\n",
    "- BMI = 몸무게(Kg) / 키(m) * 키(m)\n",
    "- BMI가 18.5이상 25미만일때가 표준 몸무게 입니다."
   ]
  },
  {
   "cell_type": "code",
   "execution_count": 22,
   "metadata": {},
   "outputs": [
    {
     "name": "stdout",
     "output_type": "stream",
     "text": [
      "OK : {'thin': 6245, 'normal': 5947, 'fat': 7808}\n"
     ]
    }
   ],
   "source": [
    "# 데이터를 획득하기 위해 무작위로 2만명 데이터를 생성.\n",
    "# 키(cm), 몸무게(kg), Lebel(저체중(thin), 정상체중(normal) 비만(fat))의 csv 생성\n",
    "\n",
    "import random\n",
    "\n",
    "# BMI를 계산해서 Label을 return하는 함수만들기\n",
    "def calc_bmi(h,w):\n",
    "    bmi = w / (h/100) ** 2\n",
    "    if bmi < 18.5 : return \"thin\" \n",
    "    if bmi < 25 : return \"normal\"\n",
    "    return \"fat\"\n",
    "    # return은 한번만 내려가기에 ifel를 쓸 필요가 없다.\n",
    "\n",
    "# 저장파일 준비하기\n",
    "fp = open(\"../Data/bmi.csv\",'w', encoding='utf-8')\n",
    "fp.write('height,weight,label\\r\\n')\n",
    "\n",
    "# 무작위로 데이터 생성하기\n",
    "cnt = {\"thin\" : 0, \"normal\" : 0, \"fat\": 0}\n",
    "\n",
    "for i in range(20000):\n",
    "    h = random.randint(120, 200)\n",
    "    w = random.randint(35, 80)\n",
    "    label = calc_bmi(h, w)\n",
    "    cnt[label] += 1\n",
    "    fp.write(\"{0},{1},{2}\\r\\n\".format(h,w,label))\n",
    "fp.close()\n",
    "print(\"OK :\", cnt)"
   ]
  },
  {
   "cell_type": "markdown",
   "metadata": {},
   "source": [
    "---\n",
    "### BMI공식을 사용하지 않고 BMI 예측"
   ]
  },
  {
   "cell_type": "code",
   "execution_count": 23,
   "metadata": {},
   "outputs": [],
   "source": [
    "import pandas as pd"
   ]
  },
  {
   "cell_type": "code",
   "execution_count": 24,
   "metadata": {},
   "outputs": [
    {
     "data": {
      "text/html": [
       "<div>\n",
       "<style scoped>\n",
       "    .dataframe tbody tr th:only-of-type {\n",
       "        vertical-align: middle;\n",
       "    }\n",
       "\n",
       "    .dataframe tbody tr th {\n",
       "        vertical-align: top;\n",
       "    }\n",
       "\n",
       "    .dataframe thead th {\n",
       "        text-align: right;\n",
       "    }\n",
       "</style>\n",
       "<table border=\"1\" class=\"dataframe\">\n",
       "  <thead>\n",
       "    <tr style=\"text-align: right;\">\n",
       "      <th></th>\n",
       "      <th>height</th>\n",
       "      <th>weight</th>\n",
       "      <th>label</th>\n",
       "    </tr>\n",
       "  </thead>\n",
       "  <tbody>\n",
       "    <tr>\n",
       "      <th>0</th>\n",
       "      <td>158</td>\n",
       "      <td>55</td>\n",
       "      <td>normal</td>\n",
       "    </tr>\n",
       "    <tr>\n",
       "      <th>1</th>\n",
       "      <td>196</td>\n",
       "      <td>64</td>\n",
       "      <td>thin</td>\n",
       "    </tr>\n",
       "    <tr>\n",
       "      <th>2</th>\n",
       "      <td>161</td>\n",
       "      <td>52</td>\n",
       "      <td>normal</td>\n",
       "    </tr>\n",
       "    <tr>\n",
       "      <th>3</th>\n",
       "      <td>196</td>\n",
       "      <td>45</td>\n",
       "      <td>thin</td>\n",
       "    </tr>\n",
       "    <tr>\n",
       "      <th>4</th>\n",
       "      <td>138</td>\n",
       "      <td>55</td>\n",
       "      <td>fat</td>\n",
       "    </tr>\n",
       "  </tbody>\n",
       "</table>\n",
       "</div>"
      ],
      "text/plain": [
       "   height  weight   label\n",
       "0     158      55  normal\n",
       "1     196      64    thin\n",
       "2     161      52  normal\n",
       "3     196      45    thin\n",
       "4     138      55     fat"
      ]
     },
     "execution_count": 24,
     "metadata": {},
     "output_type": "execute_result"
    }
   ],
   "source": [
    "# 데이터 불러오기\n",
    "tbl = pd.read_csv(\"../Data/bmi.csv\")\n",
    "tbl.head()"
   ]
  },
  {
   "cell_type": "code",
   "execution_count": 25,
   "metadata": {},
   "outputs": [],
   "source": [
    "# 컬럼을 분리하여 정규화 하기\n",
    "tbl.describe() # 표준편차가 크면 정규화 한다. \n",
    "# 하지만 별로 안크지만 하기로함\n",
    "label =tbl['label']\n",
    "w = tbl['weight'] / 80\n",
    "h = tbl['height'] /200"
   ]
  },
  {
   "cell_type": "code",
   "execution_count": 26,
   "metadata": {},
   "outputs": [
    {
     "data": {
      "text/html": [
       "<div>\n",
       "<style scoped>\n",
       "    .dataframe tbody tr th:only-of-type {\n",
       "        vertical-align: middle;\n",
       "    }\n",
       "\n",
       "    .dataframe tbody tr th {\n",
       "        vertical-align: top;\n",
       "    }\n",
       "\n",
       "    .dataframe thead th {\n",
       "        text-align: right;\n",
       "    }\n",
       "</style>\n",
       "<table border=\"1\" class=\"dataframe\">\n",
       "  <thead>\n",
       "    <tr style=\"text-align: right;\">\n",
       "      <th></th>\n",
       "      <th>weight</th>\n",
       "      <th>height</th>\n",
       "    </tr>\n",
       "  </thead>\n",
       "  <tbody>\n",
       "    <tr>\n",
       "      <th>0</th>\n",
       "      <td>0.6875</td>\n",
       "      <td>0.790</td>\n",
       "    </tr>\n",
       "    <tr>\n",
       "      <th>1</th>\n",
       "      <td>0.8000</td>\n",
       "      <td>0.980</td>\n",
       "    </tr>\n",
       "    <tr>\n",
       "      <th>2</th>\n",
       "      <td>0.6500</td>\n",
       "      <td>0.805</td>\n",
       "    </tr>\n",
       "    <tr>\n",
       "      <th>3</th>\n",
       "      <td>0.5625</td>\n",
       "      <td>0.980</td>\n",
       "    </tr>\n",
       "    <tr>\n",
       "      <th>4</th>\n",
       "      <td>0.6875</td>\n",
       "      <td>0.690</td>\n",
       "    </tr>\n",
       "    <tr>\n",
       "      <th>...</th>\n",
       "      <td>...</td>\n",
       "      <td>...</td>\n",
       "    </tr>\n",
       "    <tr>\n",
       "      <th>19995</th>\n",
       "      <td>0.6875</td>\n",
       "      <td>0.705</td>\n",
       "    </tr>\n",
       "    <tr>\n",
       "      <th>19996</th>\n",
       "      <td>0.8000</td>\n",
       "      <td>0.910</td>\n",
       "    </tr>\n",
       "    <tr>\n",
       "      <th>19997</th>\n",
       "      <td>0.5000</td>\n",
       "      <td>0.640</td>\n",
       "    </tr>\n",
       "    <tr>\n",
       "      <th>19998</th>\n",
       "      <td>0.9500</td>\n",
       "      <td>0.630</td>\n",
       "    </tr>\n",
       "    <tr>\n",
       "      <th>19999</th>\n",
       "      <td>0.5125</td>\n",
       "      <td>0.790</td>\n",
       "    </tr>\n",
       "  </tbody>\n",
       "</table>\n",
       "<p>20000 rows × 2 columns</p>\n",
       "</div>"
      ],
      "text/plain": [
       "       weight  height\n",
       "0      0.6875   0.790\n",
       "1      0.8000   0.980\n",
       "2      0.6500   0.805\n",
       "3      0.5625   0.980\n",
       "4      0.6875   0.690\n",
       "...       ...     ...\n",
       "19995  0.6875   0.705\n",
       "19996  0.8000   0.910\n",
       "19997  0.5000   0.640\n",
       "19998  0.9500   0.630\n",
       "19999  0.5125   0.790\n",
       "\n",
       "[20000 rows x 2 columns]"
      ]
     },
     "execution_count": 26,
     "metadata": {},
     "output_type": "execute_result"
    }
   ],
   "source": [
    "body_data = pd.concat([w,h], axis=1)\n",
    "body_data"
   ]
  },
  {
   "cell_type": "code",
   "execution_count": 27,
   "metadata": {},
   "outputs": [],
   "source": [
    "# 학습용과 훈련용으로 나누기\n",
    "from sklearn.model_selection import train_test_split\n",
    "train_data, test_data, train_label, test_label = train_test_split(body_data, label)"
   ]
  },
  {
   "cell_type": "code",
   "execution_count": 28,
   "metadata": {},
   "outputs": [
    {
     "data": {
      "text/plain": [
       "RandomForestClassifier()"
      ]
     },
     "execution_count": 28,
     "metadata": {},
     "output_type": "execute_result"
    }
   ],
   "source": [
    "#데이터 학습하기\n",
    "from sklearn.ensemble import RandomForestClassifier\n",
    "clf = RandomForestClassifier()\n",
    "clf.fit(train_data,train_label)"
   ]
  },
  {
   "cell_type": "code",
   "execution_count": 29,
   "metadata": {},
   "outputs": [
    {
     "data": {
      "text/plain": [
       "0.9996"
      ]
     },
     "execution_count": 29,
     "metadata": {},
     "output_type": "execute_result"
    }
   ],
   "source": [
    "# 정확도 구하기\n",
    "clf.score(test_data,test_label)"
   ]
  },
  {
   "cell_type": "code",
   "execution_count": 31,
   "metadata": {},
   "outputs": [
    {
     "name": "stdout",
     "output_type": "stream",
     "text": [
      "[[1973    0    0]\n",
      " [   0 1480    0]\n",
      " [   0    2 1545]]\n",
      "              precision    recall  f1-score   support\n",
      "\n",
      "         fat       1.00      1.00      1.00      1973\n",
      "      normal       1.00      1.00      1.00      1480\n",
      "        thin       1.00      1.00      1.00      1547\n",
      "\n",
      "    accuracy                           1.00      5000\n",
      "   macro avg       1.00      1.00      1.00      5000\n",
      "weighted avg       1.00      1.00      1.00      5000\n",
      "\n"
     ]
    }
   ],
   "source": [
    "# Confusion Matrix 출력하기\n",
    "from sklearn import svm, metrics\n",
    "\n",
    "pred = clf.predict(test_data)\n",
    "report =metrics.confusion_matrix(test_label,pred)\n",
    "print(report)\n",
    "cl_report =metrics.classification_report(test_label,pred)\n",
    "print(cl_report)"
   ]
  },
  {
   "cell_type": "code",
   "execution_count": 32,
   "metadata": {},
   "outputs": [
    {
     "data": {
      "image/png": "[encoded data removed]",
      "text/plain": [
       "<Figure size 432x288 with 1 Axes>"
      ]
     },
     "metadata": {
      "needs_background": "light"
     },
     "output_type": "display_data"
    }
   ],
   "source": [
    "# 시각화 해보기\n",
    "import matplotlib.pyplot as plt\n",
    "tbl = pd.read_csv(\"../Data/bmi.csv\", index_col=2) #index_col=2 : 2번컬럼을 인덱스로불러오기\n",
    "fig = plt.figure()\n",
    "ax = fig.add_subplot(1,1,1)\n",
    "\n",
    "def scatter(lbl, color):\n",
    "    b = tbl.loc[lbl]\n",
    "    ax.scatter(b['weight'], b['height'], c =color, label =lbl)\n",
    "# python은 이렇게 쓰는것이 좋다!\n",
    "\n",
    "scatter('fat','red')\n",
    "scatter('normal','yellow')\n",
    "scatter('thin','purple')\n",
    "ax.legend()\n",
    "plt.savefig(\"../Data/bmi-test.png\")\n",
    "plt.show()"
   ]
  },
  {
   "cell_type": "markdown",
   "metadata": {},
   "source": [
    "---\n",
    "# SVM의 종류\n",
    "- SVC(Classification)\n",
    "- NuSVC : \" \"\n",
    "- LinearSVC : SVM중에서 가장 빠름, SVC대비 약 3배정도 빠름"
   ]
  },
  {
   "cell_type": "markdown",
   "metadata": {},
   "source": [
    "#### SVC,LinearSVC\n",
    "- clf =svm.SVC()\n",
    "- clf =svm.LinearSVC() # 속도는 빠르나 예측력이 떨어진다.\n"
   ]
  },
  {
   "cell_type": "code",
   "execution_count": 35,
   "metadata": {},
   "outputs": [
    {
     "data": {
      "text/plain": [
       "LinearSVC()"
      ]
     },
     "execution_count": 35,
     "metadata": {},
     "output_type": "execute_result"
    }
   ],
   "source": [
    "# svm.LinearSVC()로 학습히기\n",
    "clf = svm.LinearSVC()\n",
    "clf.fit(train_data,train_label)"
   ]
  },
  {
   "cell_type": "code",
   "execution_count": 36,
   "metadata": {},
   "outputs": [
    {
     "data": {
      "text/plain": [
       "0.9304"
      ]
     },
     "execution_count": 36,
     "metadata": {},
     "output_type": "execute_result"
    }
   ],
   "source": [
    "# svm.LinearSVC()으로 정확도 구하기\n",
    "clf.score(test_data,test_label)"
   ]
  },
  {
   "cell_type": "code",
   "execution_count": 37,
   "metadata": {},
   "outputs": [
    {
     "name": "stdout",
     "output_type": "stream",
     "text": [
      "[[1973    0    0]\n",
      " [ 189 1133  158]\n",
      " [   0    1 1546]]\n",
      "              precision    recall  f1-score   support\n",
      "\n",
      "         fat       0.91      1.00      0.95      1973\n",
      "      normal       1.00      0.77      0.87      1480\n",
      "        thin       0.91      1.00      0.95      1547\n",
      "\n",
      "    accuracy                           0.93      5000\n",
      "   macro avg       0.94      0.92      0.92      5000\n",
      "weighted avg       0.94      0.93      0.93      5000\n",
      "\n"
     ]
    }
   ],
   "source": [
    "# svm.LinearSVC()으로 Confusion Matrix 출력하기\n",
    "pred = clf.predict(test_data)\n",
    "report =metrics.confusion_matrix(test_label,pred)\n",
    "print(report)\n",
    "cl_report =metrics.classification_report(test_label,pred)\n",
    "print(cl_report)"
   ]
  },
  {
   "cell_type": "code",
   "execution_count": null,
   "metadata": {},
   "outputs": [],
   "source": []
  }
 ],
 "metadata": {
  "kernelspec": {
   "display_name": "Python 3.9.7 ('base')",
   "language": "python",
   "name": "python3"
  },
  "language_info": {
   "codemirror_mode": {
    "name": "ipython",
    "version": 3
   },
   "file_extension": ".py",
   "mimetype": "text/x-python",
   "name": "python",
   "nbconvert_exporter": "python",
   "pygments_lexer": "ipython3",
   "version": "3.9.7"
  },
  "orig_nbformat": 4,
  "vscode": {
   "interpreter": {
    "hash": "c34e8390e776d2ee205b71ed5a6130fee3cef8da5e87e926ce18e14f4a070d72"
   }
  }
 },
 "nbformat": 4,
 "nbformat_minor": 2
}
